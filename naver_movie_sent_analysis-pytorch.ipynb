{
 "cells": [
  {
   "cell_type": "markdown",
   "metadata": {},
   "source": [
    "# process"
   ]
  },
  {
   "cell_type": "code",
   "execution_count": 13,
   "metadata": {},
   "outputs": [],
   "source": [
    "with open('../../data/nsmc/train_docs.bin', 'rb') as fp:\n",
    "    train_docs = pickle.load(fp)"
   ]
  },
  {
   "cell_type": "code",
   "execution_count": 14,
   "metadata": {},
   "outputs": [],
   "source": [
    "with open('../../data/nsmc/test_docs.bin', 'rb') as fp:\n",
    "    test_docs = pickle.load(fp)"
   ]
  },
  {
   "cell_type": "code",
   "execution_count": 15,
   "metadata": {},
   "outputs": [
    {
     "data": {
      "text/plain": [
       "{'free': 7103924, 'total': 8164892, 'used': 1060968}"
      ]
     },
     "execution_count": 15,
     "metadata": {},
     "output_type": "execute_result"
    }
   ],
   "source": [
    "memory()"
   ]
  },
  {
   "cell_type": "code",
   "execution_count": 16,
   "metadata": {},
   "outputs": [
    {
     "data": {
      "text/plain": [
       "149995"
      ]
     },
     "execution_count": 16,
     "metadata": {},
     "output_type": "execute_result"
    }
   ],
   "source": [
    "len(train_docs)"
   ]
  },
  {
   "cell_type": "code",
   "execution_count": 40,
   "metadata": {},
   "outputs": [],
   "source": [
    "with open('../../data/nsmc/tokens.bin', 'rb') as fp:\n",
    "    tokens = pickle.load(fp)"
   ]
  },
  {
   "cell_type": "code",
   "execution_count": 41,
   "metadata": {},
   "outputs": [
    {
     "data": {
      "text/plain": [
       "1137736"
      ]
     },
     "execution_count": 41,
     "metadata": {},
     "output_type": "execute_result"
    }
   ],
   "source": [
    "len(tokens)"
   ]
  },
  {
   "cell_type": "code",
   "execution_count": 42,
   "metadata": {},
   "outputs": [],
   "source": [
    "text = nltk.Text(tokens, name='NMSC')"
   ]
  },
  {
   "cell_type": "code",
   "execution_count": 43,
   "metadata": {
    "scrolled": true
   },
   "outputs": [
    {
     "name": "stdout",
     "output_type": "stream",
     "text": [
      "385509\n"
     ]
    }
   ],
   "source": [
    "print(len(set(text.tokens)))"
   ]
  },
  {
   "cell_type": "code",
   "execution_count": 44,
   "metadata": {},
   "outputs": [],
   "source": [
    "selected_words = [f[0] for f in text.vocab().most_common(10000)]"
   ]
  },
  {
   "cell_type": "code",
   "execution_count": 22,
   "metadata": {},
   "outputs": [],
   "source": [
    "def term_frequency(doc):\n",
    "    result = []\n",
    "    for word in selected_words:\n",
    "        result.append(doc.count(word))\n",
    "    return result\n"
   ]
  },
  {
   "cell_type": "code",
   "execution_count": 71,
   "metadata": {},
   "outputs": [
    {
     "name": "stdout",
     "output_type": "stream",
     "text": [
      "{'total': 4042276, 'free': 1502516, 'used': 2539760}\n",
      "{'total': 4042276, 'free': 1502512, 'used': 2539764}\n",
      "{'total': 4042276, 'free': 1502512, 'used': 2539764}\n",
      "{'total': 4042276, 'free': 1502512, 'used': 2539764}\n",
      "{'total': 4042276, 'free': 1502528, 'used': 2539748}\n",
      "{'total': 4042276, 'free': 1502528, 'used': 2539748}\n",
      "{'total': 4042276, 'free': 1502528, 'used': 2539748}\n",
      "{'total': 4042276, 'free': 1502528, 'used': 2539748}\n",
      "{'total': 4042276, 'free': 1502660, 'used': 2539616}\n",
      "{'total': 4042276, 'free': 1502660, 'used': 2539616}\n",
      "{'total': 4042276, 'free': 1502660, 'used': 2539616}\n",
      "{'total': 4042276, 'free': 1502660, 'used': 2539616}\n",
      "{'total': 4042276, 'free': 1502660, 'used': 2539616}\n",
      "{'total': 4042276, 'free': 1502660, 'used': 2539616}\n",
      "{'total': 4042276, 'free': 1502664, 'used': 2539612}\n",
      "{'total': 4042276, 'free': 1502664, 'used': 2539612}\n",
      "{'total': 4042276, 'free': 1502664, 'used': 2539612}\n",
      "{'total': 4042276, 'free': 1502288, 'used': 2539988}\n",
      "{'total': 4042276, 'free': 1501544, 'used': 2540732}\n",
      "{'total': 4042276, 'free': 1501560, 'used': 2540716}\n",
      "{'total': 4042276, 'free': 1501568, 'used': 2540708}\n",
      "{'total': 4042276, 'free': 1485572, 'used': 2556704}\n",
      "{'total': 4042276, 'free': 1403732, 'used': 2638544}\n",
      "{'total': 4042276, 'free': 1321520, 'used': 2720756}\n",
      "{'total': 4042276, 'free': 1239060, 'used': 2803216}\n",
      "{'total': 4042276, 'free': 1156848, 'used': 2885428}\n",
      "{'total': 4042276, 'free': 1074512, 'used': 2967764}\n",
      "{'total': 4042276, 'free': 992300, 'used': 3049976}\n",
      "{'total': 4042276, 'free': 909964, 'used': 3132312}\n",
      "{'total': 4042276, 'free': 827628, 'used': 3214648}\n",
      "{'total': 4042276, 'free': 1554772, 'used': 2487504}\n",
      "{'total': 4042276, 'free': 1554680, 'used': 2487596}\n",
      "{'total': 4042276, 'free': 1554612, 'used': 2487664}\n",
      "{'total': 4042276, 'free': 1554564, 'used': 2487712}\n",
      "{'total': 4042276, 'free': 1554636, 'used': 2487640}\n",
      "{'total': 4042276, 'free': 1554676, 'used': 2487600}\n",
      "{'total': 4042276, 'free': 1554676, 'used': 2487600}\n",
      "{'total': 4042276, 'free': 1554636, 'used': 2487640}\n",
      "{'total': 4042276, 'free': 1554636, 'used': 2487640}\n",
      "{'total': 4042276, 'free': 1554636, 'used': 2487640}\n",
      "{'total': 4042276, 'free': 1554636, 'used': 2487640}\n",
      "{'total': 4042276, 'free': 1554584, 'used': 2487692}\n",
      "{'total': 4042276, 'free': 1553584, 'used': 2488692}\n",
      "{'total': 4042276, 'free': 1545440, 'used': 2496836}\n",
      "{'total': 4042276, 'free': 1545316, 'used': 2496960}\n",
      "{'total': 4042276, 'free': 1545316, 'used': 2496960}\n",
      "{'total': 4042276, 'free': 1544284, 'used': 2497992}\n",
      "{'total': 4042276, 'free': 1544196, 'used': 2498080}\n",
      "{'total': 4042276, 'free': 1544196, 'used': 2498080}\n",
      "{'total': 4042276, 'free': 1544200, 'used': 2498076}\n",
      "{'total': 4042276, 'free': 1544196, 'used': 2498080}\n",
      "{'total': 4042276, 'free': 1528076, 'used': 2514200}\n",
      "{'total': 4042276, 'free': 1445828, 'used': 2596448}\n",
      "{'total': 4042276, 'free': 1363620, 'used': 2678656}\n",
      "{'total': 4042276, 'free': 1281408, 'used': 2760868}\n",
      "{'total': 4042276, 'free': 1199068, 'used': 2843208}\n",
      "{'total': 4042276, 'free': 1116744, 'used': 2925532}\n",
      "{'total': 4042276, 'free': 1034396, 'used': 3007880}\n",
      "{'total': 4042276, 'free': 952192, 'used': 3090084}\n",
      "{'total': 4042276, 'free': 869360, 'used': 3172916}\n",
      "{'total': 4042276, 'free': 1552328, 'used': 2489948}\n",
      "{'total': 4042276, 'free': 1552224, 'used': 2490052}\n",
      "{'total': 4042276, 'free': 1552176, 'used': 2490100}\n",
      "{'total': 4042276, 'free': 1552124, 'used': 2490152}\n",
      "{'total': 4042276, 'free': 1552128, 'used': 2490148}\n",
      "{'total': 4042276, 'free': 1552124, 'used': 2490152}\n",
      "{'total': 4042276, 'free': 1552088, 'used': 2490188}\n",
      "{'total': 4042276, 'free': 1552088, 'used': 2490188}\n",
      "{'total': 4042276, 'free': 1548624, 'used': 2493652}\n",
      "{'total': 4042276, 'free': 1548556, 'used': 2493720}\n",
      "{'total': 4042276, 'free': 1548556, 'used': 2493720}\n",
      "{'total': 4042276, 'free': 1548936, 'used': 2493340}\n",
      "{'total': 4042276, 'free': 1548932, 'used': 2493344}\n",
      "{'total': 4042276, 'free': 1542936, 'used': 2499340}\n",
      "{'total': 4042276, 'free': 1542572, 'used': 2499704}\n",
      "{'total': 4042276, 'free': 1542572, 'used': 2499704}\n",
      "{'total': 4042276, 'free': 1542744, 'used': 2499532}\n",
      "{'total': 4042276, 'free': 1542368, 'used': 2499908}\n",
      "{'total': 4042276, 'free': 1542368, 'used': 2499908}\n",
      "{'total': 4042276, 'free': 1542380, 'used': 2499896}\n",
      "{'total': 4042276, 'free': 1542396, 'used': 2499880}\n",
      "{'total': 4042276, 'free': 1526148, 'used': 2516128}\n",
      "{'total': 4042276, 'free': 1444180, 'used': 2598096}\n",
      "{'total': 4042276, 'free': 1361724, 'used': 2680552}\n",
      "{'total': 4042276, 'free': 1279508, 'used': 2762768}\n",
      "{'total': 4042276, 'free': 1197172, 'used': 2845104}\n",
      "{'total': 4042276, 'free': 1114836, 'used': 2927440}\n",
      "{'total': 4042276, 'free': 1032500, 'used': 3009776}\n",
      "{'total': 4042276, 'free': 950164, 'used': 3092112}\n",
      "{'total': 4042276, 'free': 867456, 'used': 3174820}\n",
      "{'total': 4042276, 'free': 1555588, 'used': 2486688}\n",
      "{'total': 4042276, 'free': 1555508, 'used': 2486768}\n",
      "{'total': 4042276, 'free': 1555564, 'used': 2486712}\n",
      "{'total': 4042276, 'free': 1555608, 'used': 2486668}\n",
      "{'total': 4042276, 'free': 1555552, 'used': 2486724}\n",
      "{'total': 4042276, 'free': 1555448, 'used': 2486828}\n",
      "{'total': 4042276, 'free': 1555460, 'used': 2486816}\n",
      "{'total': 4042276, 'free': 1555472, 'used': 2486804}\n",
      "{'total': 4042276, 'free': 1555428, 'used': 2486848}\n",
      "{'total': 4042276, 'free': 1555440, 'used': 2486836}\n",
      "{'total': 4042276, 'free': 1555428, 'used': 2486848}\n",
      "{'total': 4042276, 'free': 1555500, 'used': 2486776}\n",
      "{'total': 4042276, 'free': 1555508, 'used': 2486768}\n",
      "{'total': 4042276, 'free': 1547904, 'used': 2494372}\n",
      "{'total': 4042276, 'free': 1547904, 'used': 2494372}\n",
      "{'total': 4042276, 'free': 1547904, 'used': 2494372}\n",
      "{'total': 4042276, 'free': 1546588, 'used': 2495688}\n",
      "{'total': 4042276, 'free': 1546528, 'used': 2495748}\n",
      "{'total': 4042276, 'free': 1546528, 'used': 2495748}\n",
      "{'total': 4042276, 'free': 1546528, 'used': 2495748}\n",
      "{'total': 4042276, 'free': 1546528, 'used': 2495748}\n",
      "{'total': 4042276, 'free': 1530532, 'used': 2511744}\n",
      "{'total': 4042276, 'free': 1448408, 'used': 2593868}\n",
      "{'total': 4042276, 'free': 1366072, 'used': 2676204}\n",
      "{'total': 4042276, 'free': 1283740, 'used': 2758536}\n",
      "{'total': 4042276, 'free': 1201524, 'used': 2840752}\n",
      "{'total': 4042276, 'free': 1119068, 'used': 2923208}\n",
      "{'total': 4042276, 'free': 1036860, 'used': 3005416}\n",
      "{'total': 4042276, 'free': 954648, 'used': 3087628}\n",
      "{'total': 4042276, 'free': 871808, 'used': 3170468}\n",
      "{'total': 4042276, 'free': 1555840, 'used': 2486436}\n",
      "{'total': 4042276, 'free': 1555824, 'used': 2486452}\n",
      "{'total': 4042276, 'free': 1555780, 'used': 2486496}\n",
      "{'total': 4042276, 'free': 1555820, 'used': 2486456}\n",
      "{'total': 4042276, 'free': 1555708, 'used': 2486568}\n",
      "{'total': 4042276, 'free': 1555764, 'used': 2486512}\n",
      "{'total': 4042276, 'free': 1555776, 'used': 2486500}\n",
      "{'total': 4042276, 'free': 1555776, 'used': 2486500}\n",
      "{'total': 4042276, 'free': 1551956, 'used': 2490320}\n",
      "{'total': 4042276, 'free': 1551960, 'used': 2490316}\n",
      "{'total': 4042276, 'free': 1551960, 'used': 2490316}\n",
      "{'total': 4042276, 'free': 1552088, 'used': 2490188}\n",
      "{'total': 4042276, 'free': 1551320, 'used': 2490956}\n",
      "{'total': 4042276, 'free': 1544860, 'used': 2497416}\n",
      "{'total': 4042276, 'free': 1544856, 'used': 2497420}\n",
      "{'total': 4042276, 'free': 1544868, 'used': 2497408}\n",
      "{'total': 4042276, 'free': 1544720, 'used': 2497556}\n",
      "{'total': 4042276, 'free': 1544160, 'used': 2498116}\n",
      "{'total': 4042276, 'free': 1544200, 'used': 2498076}\n",
      "{'total': 4042276, 'free': 1544300, 'used': 2497976}\n",
      "{'total': 4042276, 'free': 1544344, 'used': 2497932}\n",
      "{'total': 4042276, 'free': 1528220, 'used': 2514056}\n",
      "{'total': 4042276, 'free': 1446500, 'used': 2595776}\n",
      "{'total': 4042276, 'free': 1364288, 'used': 2677988}\n",
      "{'total': 4042276, 'free': 1281828, 'used': 2760448}\n",
      "{'total': 4042276, 'free': 1199616, 'used': 2842660}\n",
      "{'total': 4042276, 'free': 1117280, 'used': 2924996}\n",
      "{'total': 4042276, 'free': 1034916, 'used': 3007360}\n",
      "{'total': 4042276, 'free': 952724, 'used': 3089552}\n",
      "{'total': 4042276, 'free': 870000, 'used': 3172276}\n"
     ]
    }
   ],
   "source": [
    "train_x = []\n",
    "i = 0\n",
    "for i, dd in enumerate(train_docs):\n",
    "    if i % 1000 == 0:\n",
    "        print(memory())\n",
    "    if not i == 0 and i % 29999 == 0:\n",
    "        with open('../../data/nsmc/train_x_' + str(i) + '.bin', 'wb') as fp:\n",
    "            pickle.dump(train_x, fp)\n",
    "            train_x.clear()\n",
    "    if not i == 0 and i % 149994 == 0:\n",
    "        with open('../../data/nsmc/train_x_' + str(i) + '.bin', 'wb') as fp:\n",
    "            pickle.dump(train_x, fp)\n",
    "            train_x.clear()\n",
    "    train_x.append(term_frequency(dd[0]))"
   ]
  },
  {
   "cell_type": "code",
   "execution_count": 23,
   "metadata": {},
   "outputs": [
    {
     "data": {
      "text/plain": [
       "49997"
      ]
     },
     "execution_count": 23,
     "metadata": {},
     "output_type": "execute_result"
    }
   ],
   "source": [
    "len(test_docs)"
   ]
  },
  {
   "cell_type": "code",
   "execution_count": 26,
   "metadata": {},
   "outputs": [
    {
     "name": "stdout",
     "output_type": "stream",
     "text": [
      "{'total': 8164892, 'free': 5487688, 'used': 2677204}\n",
      "{'total': 8164892, 'free': 5487688, 'used': 2677204}\n",
      "{'total': 8164892, 'free': 5487704, 'used': 2677188}\n",
      "{'total': 8164892, 'free': 5487704, 'used': 2677188}\n",
      "{'total': 8164892, 'free': 5487704, 'used': 2677188}\n",
      "{'total': 8164892, 'free': 5487580, 'used': 2677312}\n",
      "{'total': 8164892, 'free': 5487580, 'used': 2677312}\n",
      "{'total': 8164892, 'free': 5487580, 'used': 2677312}\n",
      "{'total': 8164892, 'free': 5487580, 'used': 2677312}\n",
      "{'total': 8164892, 'free': 5487580, 'used': 2677312}\n",
      "{'total': 8164892, 'free': 5487580, 'used': 2677312}\n",
      "{'total': 8164892, 'free': 5487580, 'used': 2677312}\n",
      "{'total': 8164892, 'free': 5487588, 'used': 2677304}\n",
      "{'total': 8164892, 'free': 5487588, 'used': 2677304}\n",
      "{'total': 8164892, 'free': 5487588, 'used': 2677304}\n",
      "{'total': 8164892, 'free': 5487588, 'used': 2677304}\n",
      "{'total': 8164892, 'free': 5487572, 'used': 2677320}\n",
      "{'total': 8164892, 'free': 5487572, 'used': 2677320}\n",
      "{'total': 8164892, 'free': 5487572, 'used': 2677320}\n",
      "{'total': 8164892, 'free': 5487572, 'used': 2677320}\n",
      "{'total': 8164892, 'free': 5487572, 'used': 2677320}\n",
      "{'total': 8164892, 'free': 5487572, 'used': 2677320}\n",
      "{'total': 8164892, 'free': 5487572, 'used': 2677320}\n",
      "{'total': 8164892, 'free': 5487572, 'used': 2677320}\n",
      "{'total': 8164892, 'free': 5487572, 'used': 2677320}\n",
      "{'total': 8164892, 'free': 5487572, 'used': 2677320}\n",
      "{'total': 8164892, 'free': 5487572, 'used': 2677320}\n",
      "{'total': 8164892, 'free': 5487572, 'used': 2677320}\n",
      "{'total': 8164892, 'free': 5487572, 'used': 2677320}\n",
      "{'total': 8164892, 'free': 5487572, 'used': 2677320}\n",
      "{'total': 8164892, 'free': 5487632, 'used': 2677260}\n",
      "{'total': 8164892, 'free': 5487632, 'used': 2677260}\n",
      "{'total': 8164892, 'free': 5487632, 'used': 2677260}\n",
      "{'total': 8164892, 'free': 5487632, 'used': 2677260}\n",
      "{'total': 8164892, 'free': 5487632, 'used': 2677260}\n",
      "{'total': 8164892, 'free': 5487632, 'used': 2677260}\n",
      "{'total': 8164892, 'free': 5487632, 'used': 2677260}\n",
      "{'total': 8164892, 'free': 5487632, 'used': 2677260}\n",
      "{'total': 8164892, 'free': 5487632, 'used': 2677260}\n",
      "{'total': 8164892, 'free': 5487632, 'used': 2677260}\n",
      "{'total': 8164892, 'free': 5487632, 'used': 2677260}\n",
      "{'total': 8164892, 'free': 5487632, 'used': 2677260}\n",
      "{'total': 8164892, 'free': 5487632, 'used': 2677260}\n",
      "{'total': 8164892, 'free': 5487632, 'used': 2677260}\n",
      "{'total': 8164892, 'free': 5487632, 'used': 2677260}\n",
      "{'total': 8164892, 'free': 5487632, 'used': 2677260}\n",
      "{'total': 8164892, 'free': 5487632, 'used': 2677260}\n",
      "{'total': 8164892, 'free': 5487632, 'used': 2677260}\n",
      "{'total': 8164892, 'free': 5487632, 'used': 2677260}\n",
      "{'total': 8164892, 'free': 5487632, 'used': 2677260}\n",
      "{'total': 8164892, 'free': 5487632, 'used': 2677260}\n",
      "{'total': 8164892, 'free': 5487632, 'used': 2677260}\n",
      "{'total': 8164892, 'free': 5487632, 'used': 2677260}\n",
      "{'total': 8164892, 'free': 5487632, 'used': 2677260}\n",
      "{'total': 8164892, 'free': 5487632, 'used': 2677260}\n",
      "{'total': 8164892, 'free': 5487632, 'used': 2677260}\n",
      "{'total': 8164892, 'free': 5487632, 'used': 2677260}\n",
      "{'total': 8164892, 'free': 5487632, 'used': 2677260}\n",
      "{'total': 8164892, 'free': 5487632, 'used': 2677260}\n",
      "{'total': 8164892, 'free': 5487632, 'used': 2677260}\n",
      "{'total': 8164892, 'free': 5487692, 'used': 2677200}\n",
      "{'total': 8164892, 'free': 5487692, 'used': 2677200}\n",
      "{'total': 8164892, 'free': 5487692, 'used': 2677200}\n",
      "{'total': 8164892, 'free': 5487692, 'used': 2677200}\n",
      "{'total': 8164892, 'free': 5487692, 'used': 2677200}\n",
      "{'total': 8164892, 'free': 5487692, 'used': 2677200}\n",
      "{'total': 8164892, 'free': 5487692, 'used': 2677200}\n",
      "{'total': 8164892, 'free': 5487692, 'used': 2677200}\n",
      "{'total': 8164892, 'free': 5487692, 'used': 2677200}\n",
      "{'total': 8164892, 'free': 5487692, 'used': 2677200}\n",
      "{'total': 8164892, 'free': 5487692, 'used': 2677200}\n",
      "{'total': 8164892, 'free': 5487692, 'used': 2677200}\n",
      "{'total': 8164892, 'free': 5487692, 'used': 2677200}\n",
      "{'total': 8164892, 'free': 5487692, 'used': 2677200}\n",
      "{'total': 8164892, 'free': 5487692, 'used': 2677200}\n",
      "{'total': 8164892, 'free': 5487692, 'used': 2677200}\n",
      "{'total': 8164892, 'free': 5487692, 'used': 2677200}\n",
      "{'total': 8164892, 'free': 5487692, 'used': 2677200}\n",
      "{'total': 8164892, 'free': 5487692, 'used': 2677200}\n",
      "{'total': 8164892, 'free': 5487692, 'used': 2677200}\n",
      "{'total': 8164892, 'free': 5487692, 'used': 2677200}\n",
      "{'total': 8164892, 'free': 5487692, 'used': 2677200}\n",
      "{'total': 8164892, 'free': 5487692, 'used': 2677200}\n",
      "{'total': 8164892, 'free': 5487692, 'used': 2677200}\n",
      "{'total': 8164892, 'free': 5487692, 'used': 2677200}\n",
      "{'total': 8164892, 'free': 5487692, 'used': 2677200}\n",
      "{'total': 8164892, 'free': 5487692, 'used': 2677200}\n",
      "{'total': 8164892, 'free': 5487692, 'used': 2677200}\n",
      "{'total': 8164892, 'free': 5487692, 'used': 2677200}\n",
      "{'total': 8164892, 'free': 5487692, 'used': 2677200}\n",
      "{'total': 8164892, 'free': 5487612, 'used': 2677280}\n",
      "{'total': 8164892, 'free': 5487612, 'used': 2677280}\n",
      "{'total': 8164892, 'free': 5487612, 'used': 2677280}\n",
      "{'total': 8164892, 'free': 5487612, 'used': 2677280}\n",
      "{'total': 8164892, 'free': 5487612, 'used': 2677280}\n",
      "{'total': 8164892, 'free': 5487612, 'used': 2677280}\n",
      "{'total': 8164892, 'free': 5487612, 'used': 2677280}\n",
      "{'total': 8164892, 'free': 5487612, 'used': 2677280}\n",
      "{'total': 8164892, 'free': 5487612, 'used': 2677280}\n",
      "{'total': 8164892, 'free': 5487612, 'used': 2677280}\n",
      "{'total': 8164892, 'free': 5487612, 'used': 2677280}\n",
      "{'total': 8164892, 'free': 5487612, 'used': 2677280}\n",
      "{'total': 8164892, 'free': 5487612, 'used': 2677280}\n",
      "{'total': 8164892, 'free': 5487612, 'used': 2677280}\n",
      "{'total': 8164892, 'free': 5487612, 'used': 2677280}\n",
      "{'total': 8164892, 'free': 5487612, 'used': 2677280}\n",
      "{'total': 8164892, 'free': 5487612, 'used': 2677280}\n",
      "{'total': 8164892, 'free': 5487612, 'used': 2677280}\n",
      "{'total': 8164892, 'free': 5487612, 'used': 2677280}\n",
      "{'total': 8164892, 'free': 5487612, 'used': 2677280}\n",
      "{'total': 8164892, 'free': 5487612, 'used': 2677280}\n",
      "{'total': 8164892, 'free': 5487612, 'used': 2677280}\n",
      "{'total': 8164892, 'free': 5487612, 'used': 2677280}\n",
      "{'total': 8164892, 'free': 5487612, 'used': 2677280}\n",
      "{'total': 8164892, 'free': 5487612, 'used': 2677280}\n",
      "{'total': 8164892, 'free': 5487612, 'used': 2677280}\n",
      "{'total': 8164892, 'free': 5487612, 'used': 2677280}\n",
      "{'total': 8164892, 'free': 5487612, 'used': 2677280}\n",
      "{'total': 8164892, 'free': 5487612, 'used': 2677280}\n",
      "{'total': 8164892, 'free': 5487612, 'used': 2677280}\n",
      "{'total': 8164892, 'free': 5487672, 'used': 2677220}\n",
      "{'total': 8164892, 'free': 5487672, 'used': 2677220}\n",
      "{'total': 8164892, 'free': 5487672, 'used': 2677220}\n",
      "{'total': 8164892, 'free': 5487672, 'used': 2677220}\n",
      "{'total': 8164892, 'free': 5487672, 'used': 2677220}\n",
      "{'total': 8164892, 'free': 5487672, 'used': 2677220}\n",
      "{'total': 8164892, 'free': 5487672, 'used': 2677220}\n",
      "{'total': 8164892, 'free': 5487672, 'used': 2677220}\n",
      "{'total': 8164892, 'free': 5487672, 'used': 2677220}\n",
      "{'total': 8164892, 'free': 5487672, 'used': 2677220}\n",
      "{'total': 8164892, 'free': 5487672, 'used': 2677220}\n",
      "{'total': 8164892, 'free': 5487672, 'used': 2677220}\n",
      "{'total': 8164892, 'free': 5487672, 'used': 2677220}\n",
      "{'total': 8164892, 'free': 5487672, 'used': 2677220}\n",
      "{'total': 8164892, 'free': 5487672, 'used': 2677220}\n",
      "{'total': 8164892, 'free': 5487672, 'used': 2677220}\n",
      "{'total': 8164892, 'free': 5487672, 'used': 2677220}\n",
      "{'total': 8164892, 'free': 5487672, 'used': 2677220}\n",
      "{'total': 8164892, 'free': 5487672, 'used': 2677220}\n",
      "{'total': 8164892, 'free': 5487672, 'used': 2677220}\n",
      "{'total': 8164892, 'free': 5487672, 'used': 2677220}\n",
      "{'total': 8164892, 'free': 5487672, 'used': 2677220}\n",
      "{'total': 8164892, 'free': 5487672, 'used': 2677220}\n",
      "{'total': 8164892, 'free': 5487672, 'used': 2677220}\n",
      "{'total': 8164892, 'free': 5487672, 'used': 2677220}\n",
      "{'total': 8164892, 'free': 5487672, 'used': 2677220}\n",
      "{'total': 8164892, 'free': 5487672, 'used': 2677220}\n",
      "{'total': 8164892, 'free': 5487672, 'used': 2677220}\n",
      "{'total': 8164892, 'free': 5487672, 'used': 2677220}\n",
      "{'total': 8164892, 'free': 5487672, 'used': 2677220}\n"
     ]
    }
   ],
   "source": [
    "train_y = []\n",
    "i = 0\n",
    "for i, dd in enumerate(train_docs):\n",
    "    if i % 1000 == 0:\n",
    "        print(memory())\n",
    "    if not i == 0 and i % 29999 == 0:\n",
    "        with open('../../data/nsmc/train_y_' + str(i) + '.bin', 'wb') as fp:\n",
    "            pickle.dump(train_y, fp)\n",
    "            train_y.clear()\n",
    "    if not i == 0 and i % 149994 == 0:\n",
    "        with open('../../data/nsmc/train_y_' + str(i) + '.bin', 'wb') as fp:\n",
    "            pickle.dump(train_y, fp)\n",
    "            train_y.clear()\n",
    "    train_y.append(dd[1])"
   ]
  },
  {
   "cell_type": "code",
   "execution_count": 24,
   "metadata": {
    "scrolled": true
   },
   "outputs": [
    {
     "name": "stdout",
     "output_type": "stream",
     "text": [
      "{'total': 8164892, 'free': 6956784, 'used': 1208108}\n",
      "{'total': 8164892, 'free': 6956804, 'used': 1208088}\n",
      "{'total': 8164892, 'free': 6956804, 'used': 1208088}\n",
      "{'total': 8164892, 'free': 6922580, 'used': 1242312}\n",
      "{'total': 8164892, 'free': 6840376, 'used': 1324516}\n",
      "{'total': 8164892, 'free': 6758164, 'used': 1406728}\n",
      "{'total': 8164892, 'free': 6675952, 'used': 1488940}\n",
      "{'total': 8164892, 'free': 6593616, 'used': 1571276}\n",
      "{'total': 8164892, 'free': 6511156, 'used': 1653736}\n",
      "{'total': 8164892, 'free': 6428820, 'used': 1736072}\n",
      "{'total': 8164892, 'free': 6346484, 'used': 1818408}\n",
      "{'total': 8164892, 'free': 6264024, 'used': 1900868}\n",
      "{'total': 8164892, 'free': 6181812, 'used': 1983080}\n",
      "{'total': 8164892, 'free': 6099476, 'used': 2065416}\n",
      "{'total': 8164892, 'free': 6017016, 'used': 2147876}\n",
      "{'total': 8164892, 'free': 5934680, 'used': 2230212}\n",
      "{'total': 8164892, 'free': 5853588, 'used': 2311304}\n",
      "{'total': 8164892, 'free': 5771128, 'used': 2393764}\n",
      "{'total': 8164892, 'free': 5688792, 'used': 2476100}\n",
      "{'total': 8164892, 'free': 5606456, 'used': 2558436}\n",
      "{'total': 8164892, 'free': 5523872, 'used': 2641020}\n",
      "{'total': 8164892, 'free': 5441660, 'used': 2723232}\n",
      "{'total': 8164892, 'free': 5359324, 'used': 2805568}\n",
      "{'total': 8164892, 'free': 5276864, 'used': 2888028}\n",
      "{'total': 8164892, 'free': 5194528, 'used': 2970364}\n",
      "{'total': 8164892, 'free': 5112192, 'used': 3052700}\n",
      "{'total': 8164892, 'free': 5029732, 'used': 3135160}\n",
      "{'total': 8164892, 'free': 4947396, 'used': 3217496}\n",
      "{'total': 8164892, 'free': 4865060, 'used': 3299832}\n",
      "{'total': 8164892, 'free': 4782600, 'used': 3382292}\n",
      "{'total': 8164892, 'free': 5540864, 'used': 2624028}\n",
      "{'total': 8164892, 'free': 5540864, 'used': 2624028}\n",
      "{'total': 8164892, 'free': 5540864, 'used': 2624028}\n",
      "{'total': 8164892, 'free': 5540864, 'used': 2624028}\n",
      "{'total': 8164892, 'free': 5540864, 'used': 2624028}\n",
      "{'total': 8164892, 'free': 5540864, 'used': 2624028}\n",
      "{'total': 8164892, 'free': 5540864, 'used': 2624028}\n",
      "{'total': 8164892, 'free': 5540864, 'used': 2624028}\n",
      "{'total': 8164892, 'free': 5540864, 'used': 2624028}\n",
      "{'total': 8164892, 'free': 5540988, 'used': 2623904}\n",
      "{'total': 8164892, 'free': 5540988, 'used': 2623904}\n",
      "{'total': 8164892, 'free': 5540740, 'used': 2624152}\n",
      "{'total': 8164892, 'free': 5537392, 'used': 2627500}\n",
      "{'total': 8164892, 'free': 5533920, 'used': 2630972}\n",
      "{'total': 8164892, 'free': 5530572, 'used': 2634320}\n",
      "{'total': 8164892, 'free': 5527224, 'used': 2637668}\n",
      "{'total': 8164892, 'free': 5523752, 'used': 2641140}\n",
      "{'total': 8164892, 'free': 5520404, 'used': 2644488}\n",
      "{'total': 8164892, 'free': 5517056, 'used': 2647836}\n",
      "{'total': 8164892, 'free': 5513584, 'used': 2651308}\n"
     ]
    }
   ],
   "source": [
    "test_x = []\n",
    "i = 0\n",
    "for i, dd in enumerate(test_docs):\n",
    "    if i % 1000 == 0:\n",
    "        print(memory())\n",
    "    if not i == 0 and i % 29999 == 0:\n",
    "        with open('../../data/nsmc/test_x_' + str(i) + '.bin', 'wb') as fp:\n",
    "            pickle.dump(test_x, fp)\n",
    "            test_x.clear()\n",
    "    if not i == 0 and i % 49996 == 0:\n",
    "        with open('../../data/nsmc/test_x_' + str(i) + '.bin', 'wb') as fp:\n",
    "            pickle.dump(test_x, fp)\n",
    "            test_x.clear()\n",
    "    test_x.append(term_frequency(dd[0]))"
   ]
  },
  {
   "cell_type": "code",
   "execution_count": 28,
   "metadata": {},
   "outputs": [
    {
     "data": {
      "text/plain": [
       "49997"
      ]
     },
     "execution_count": 28,
     "metadata": {},
     "output_type": "execute_result"
    }
   ],
   "source": [
    "len(test_docs)"
   ]
  },
  {
   "cell_type": "code",
   "execution_count": 29,
   "metadata": {
    "scrolled": true
   },
   "outputs": [
    {
     "name": "stdout",
     "output_type": "stream",
     "text": [
      "{'total': 8164892, 'free': 5489452, 'used': 2675440}\n",
      "{'total': 8164892, 'free': 5489452, 'used': 2675440}\n",
      "{'total': 8164892, 'free': 5489452, 'used': 2675440}\n",
      "{'total': 8164892, 'free': 5489452, 'used': 2675440}\n",
      "{'total': 8164892, 'free': 5489452, 'used': 2675440}\n",
      "{'total': 8164892, 'free': 5489456, 'used': 2675436}\n",
      "{'total': 8164892, 'free': 5489456, 'used': 2675436}\n",
      "{'total': 8164892, 'free': 5489456, 'used': 2675436}\n",
      "{'total': 8164892, 'free': 5489456, 'used': 2675436}\n",
      "{'total': 8164892, 'free': 5489456, 'used': 2675436}\n",
      "{'total': 8164892, 'free': 5489456, 'used': 2675436}\n",
      "{'total': 8164892, 'free': 5489456, 'used': 2675436}\n",
      "{'total': 8164892, 'free': 5489456, 'used': 2675436}\n",
      "{'total': 8164892, 'free': 5489460, 'used': 2675432}\n",
      "{'total': 8164892, 'free': 5489460, 'used': 2675432}\n",
      "{'total': 8164892, 'free': 5489460, 'used': 2675432}\n",
      "{'total': 8164892, 'free': 5489460, 'used': 2675432}\n",
      "{'total': 8164892, 'free': 5489460, 'used': 2675432}\n",
      "{'total': 8164892, 'free': 5489460, 'used': 2675432}\n",
      "{'total': 8164892, 'free': 5489460, 'used': 2675432}\n",
      "{'total': 8164892, 'free': 5489460, 'used': 2675432}\n",
      "{'total': 8164892, 'free': 5489460, 'used': 2675432}\n",
      "{'total': 8164892, 'free': 5489460, 'used': 2675432}\n",
      "{'total': 8164892, 'free': 5489460, 'used': 2675432}\n",
      "{'total': 8164892, 'free': 5489460, 'used': 2675432}\n",
      "{'total': 8164892, 'free': 5489460, 'used': 2675432}\n",
      "{'total': 8164892, 'free': 5489460, 'used': 2675432}\n",
      "{'total': 8164892, 'free': 5489460, 'used': 2675432}\n",
      "{'total': 8164892, 'free': 5489460, 'used': 2675432}\n",
      "{'total': 8164892, 'free': 5489460, 'used': 2675432}\n",
      "{'total': 8164892, 'free': 5489412, 'used': 2675480}\n",
      "{'total': 8164892, 'free': 5489412, 'used': 2675480}\n",
      "{'total': 8164892, 'free': 5489412, 'used': 2675480}\n",
      "{'total': 8164892, 'free': 5489412, 'used': 2675480}\n",
      "{'total': 8164892, 'free': 5489412, 'used': 2675480}\n",
      "{'total': 8164892, 'free': 5489412, 'used': 2675480}\n",
      "{'total': 8164892, 'free': 5489412, 'used': 2675480}\n",
      "{'total': 8164892, 'free': 5489412, 'used': 2675480}\n",
      "{'total': 8164892, 'free': 5489412, 'used': 2675480}\n",
      "{'total': 8164892, 'free': 5489412, 'used': 2675480}\n",
      "{'total': 8164892, 'free': 5489412, 'used': 2675480}\n",
      "{'total': 8164892, 'free': 5489412, 'used': 2675480}\n",
      "{'total': 8164892, 'free': 5489412, 'used': 2675480}\n",
      "{'total': 8164892, 'free': 5489412, 'used': 2675480}\n",
      "{'total': 8164892, 'free': 5489412, 'used': 2675480}\n",
      "{'total': 8164892, 'free': 5489412, 'used': 2675480}\n",
      "{'total': 8164892, 'free': 5489412, 'used': 2675480}\n",
      "{'total': 8164892, 'free': 5489412, 'used': 2675480}\n",
      "{'total': 8164892, 'free': 5489412, 'used': 2675480}\n",
      "{'total': 8164892, 'free': 5489412, 'used': 2675480}\n"
     ]
    }
   ],
   "source": [
    "test_y = []\n",
    "i = 0\n",
    "for i, dd in enumerate(test_docs):\n",
    "    if i % 1000 == 0:\n",
    "        print(memory())\n",
    "    if not i == 0 and i % 29999 == 0:\n",
    "        with open('../../data/nsmc/test_y_' + str(i) + '.bin', 'wb') as fp:\n",
    "            pickle.dump(test_y, fp)\n",
    "            test_y.clear()\n",
    "    if not i == 0 and i % 49996 == 0:\n",
    "        with open('../../data/nsmc/test_y_' + str(i) + '.bin', 'wb') as fp:\n",
    "            pickle.dump(test_y, fp)\n",
    "            test_y.clear()\n",
    "    test_y.append(dd[1])"
   ]
  },
  {
   "cell_type": "markdown",
   "metadata": {},
   "source": [
    "# start"
   ]
  },
  {
   "cell_type": "code",
   "execution_count": 2,
   "metadata": {},
   "outputs": [],
   "source": [
    "def memory():\n",
    "    \"\"\"\n",
    "    Get node total memory and memory usage\n",
    "    \"\"\"\n",
    "    with open('/proc/meminfo', 'r') as mem:\n",
    "        ret = {}\n",
    "        tmp = 0\n",
    "        for i in mem:\n",
    "            sline = i.split()\n",
    "            if str(sline[0]) == 'MemTotal:':\n",
    "                ret['total'] = int(sline[1])\n",
    "            elif str(sline[0]) in ('MemFree:', 'Buffers:', 'Cached:'):\n",
    "                tmp += int(sline[1])\n",
    "        ret['free'] = tmp\n",
    "        ret['used'] = int(ret['total']) - int(ret['free'])\n",
    "    return ret\n"
   ]
  },
  {
   "cell_type": "code",
   "execution_count": 3,
   "metadata": {},
   "outputs": [],
   "source": [
    "import pickle"
   ]
  },
  {
   "cell_type": "code",
   "execution_count": 4,
   "metadata": {},
   "outputs": [],
   "source": [
    "import nltk"
   ]
  },
  {
   "cell_type": "code",
   "execution_count": 5,
   "metadata": {},
   "outputs": [
    {
     "data": {
      "text/plain": [
       "28"
      ]
     },
     "execution_count": 5,
     "metadata": {},
     "output_type": "execute_result"
    }
   ],
   "source": [
    "import sys\n",
    "sys.getsizeof(2)"
   ]
  },
  {
   "cell_type": "code",
   "execution_count": 6,
   "metadata": {},
   "outputs": [
    {
     "data": {
      "text/plain": [
       "{'free': 7811856, 'total': 8164892, 'used': 353036}"
      ]
     },
     "execution_count": 6,
     "metadata": {},
     "output_type": "execute_result"
    }
   ],
   "source": [
    "memory()"
   ]
  },
  {
   "cell_type": "code",
   "execution_count": 7,
   "metadata": {},
   "outputs": [
    {
     "name": "stdout",
     "output_type": "stream",
     "text": [
      "{'total': 8164892, 'free': 5338368, 'used': 2826524}\n"
     ]
    }
   ],
   "source": [
    "with open('../../data/nsmc/train_x_0.bin', 'rb') as fp:\n",
    "    train_x = pickle.load(fp)\n",
    "with open('../../data/nsmc/train_y_0.bin', 'rb') as fp:\n",
    "    train_y = pickle.load(fp)\n",
    "print(memory())"
   ]
  },
  {
   "cell_type": "code",
   "execution_count": null,
   "metadata": {},
   "outputs": [],
   "source": [
    "with open('../../data/nsmc/test_x_0.bin', 'rb') as fp:\n",
    "    test_x = pickle.load(fp)\n",
    "with open('../../data/nsmc/test_y_0.bin', 'rb') as fp:\n",
    "    test_y = pickle.load(fp)\n",
    "print(memory())"
   ]
  },
  {
   "cell_type": "code",
   "execution_count": 8,
   "metadata": {},
   "outputs": [
    {
     "name": "stdout",
     "output_type": "stream",
     "text": [
      "{'total': 8164892, 'free': 2988864, 'used': 5176028}\n"
     ]
    }
   ],
   "source": [
    "import numpy as np\n",
    "\n",
    "x_train = np.asarray(train_x).astype('int64')\n",
    "y_train = np.asarray(train_y).astype('int64')\n",
    "print(memory())"
   ]
  },
  {
   "cell_type": "code",
   "execution_count": 9,
   "metadata": {},
   "outputs": [
    {
     "name": "stdout",
     "output_type": "stream",
     "text": [
      "{'total': 8164892, 'free': 2990000, 'used': 5174892}\n"
     ]
    }
   ],
   "source": [
    "del train_x\n",
    "del train_y\n",
    "print(memory())"
   ]
  },
  {
   "cell_type": "code",
   "execution_count": null,
   "metadata": {},
   "outputs": [],
   "source": [
    "x_test = np.asarray(test_x).astype('int64')\n",
    "y_test = np.asarray(test_y).astype('int64')"
   ]
  },
  {
   "cell_type": "markdown",
   "metadata": {},
   "source": [
    "# learning"
   ]
  },
  {
   "cell_type": "code",
   "execution_count": 10,
   "metadata": {},
   "outputs": [],
   "source": [
    "from torch.utils.data import Dataset, DataLoader"
   ]
  },
  {
   "cell_type": "code",
   "execution_count": 11,
   "metadata": {},
   "outputs": [],
   "source": [
    "import torch"
   ]
  },
  {
   "cell_type": "code",
   "execution_count": 12,
   "metadata": {},
   "outputs": [
    {
     "data": {
      "text/plain": [
       "device(type='cpu')"
      ]
     },
     "execution_count": 12,
     "metadata": {},
     "output_type": "execute_result"
    }
   ],
   "source": [
    "device = torch.device(\"cuda:0\" if torch.cuda.is_available() else \"cpu\")\n",
    "device"
   ]
  },
  {
   "cell_type": "code",
   "execution_count": 13,
   "metadata": {},
   "outputs": [
    {
     "data": {
      "text/plain": [
       "{'free': 2973096, 'total': 8164892, 'used': 5191796}"
      ]
     },
     "execution_count": 13,
     "metadata": {},
     "output_type": "execute_result"
    }
   ],
   "source": [
    "memory()"
   ]
  },
  {
   "cell_type": "code",
   "execution_count": 14,
   "metadata": {},
   "outputs": [],
   "source": [
    "class PosDataset(Dataset):\n",
    "    def __init__(self, x_train, y_train):\n",
    "        x_yet = torch.from_numpy(x_train)\n",
    "        self.x_train = x_yet.float()\n",
    "        y_yet = torch.from_numpy(y_train)\n",
    "        self.y_train = y_yet.float().view(-1,1)\n",
    "    \n",
    "    def __len__(self):\n",
    "        return len(self.y_train)\n",
    "    \n",
    "    def __getitem__(self, idx):\n",
    "        return self.x_train[idx], self.y_train[idx]"
   ]
  },
  {
   "cell_type": "code",
   "execution_count": 25,
   "metadata": {},
   "outputs": [],
   "source": [
    "trainset = PosDataset(x_train, y_train)\n",
    "trainset_loader = DataLoader(trainset, batch_size=512)"
   ]
  },
  {
   "cell_type": "code",
   "execution_count": 26,
   "metadata": {},
   "outputs": [
    {
     "name": "stdout",
     "output_type": "stream",
     "text": [
      "torch.Size([29999, 10000])\n",
      "torch.Size([29999, 1])\n"
     ]
    }
   ],
   "source": [
    "print(trainset.x_train.shape)\n",
    "print(trainset.y_train.shape)"
   ]
  },
  {
   "cell_type": "code",
   "execution_count": 27,
   "metadata": {},
   "outputs": [
    {
     "data": {
      "text/plain": [
       "{'free': 2809940, 'total': 8164892, 'used': 5354952}"
      ]
     },
     "execution_count": 27,
     "metadata": {},
     "output_type": "execute_result"
    }
   ],
   "source": [
    "memory()"
   ]
  },
  {
   "cell_type": "code",
   "execution_count": 28,
   "metadata": {},
   "outputs": [],
   "source": [
    "import torch.nn as nn\n",
    "import torch.nn.functional as F"
   ]
  },
  {
   "cell_type": "code",
   "execution_count": 29,
   "metadata": {},
   "outputs": [
    {
     "data": {
      "text/plain": [
       "Net(\n",
       "  (fc1): Linear(in_features=10000, out_features=64, bias=True)\n",
       "  (fc2): Linear(in_features=64, out_features=64, bias=True)\n",
       "  (fc3): Linear(in_features=64, out_features=1, bias=True)\n",
       ")"
      ]
     },
     "execution_count": 29,
     "metadata": {},
     "output_type": "execute_result"
    }
   ],
   "source": [
    "class Net(nn.Module):\n",
    "    def __init__(self):\n",
    "        super(Net, self).__init__()\n",
    "        self.fc1 = nn.Linear(10000, 64) \n",
    "        self.fc2 = nn.Linear(64, 64)\n",
    "        self.fc3 = nn.Linear(64, 1)\n",
    "\n",
    "    def forward(self, x):\n",
    "        x = F.relu(self.fc1(x))\n",
    "        x = F.relu(self.fc2(x))\n",
    "        x = self.fc3(x)\n",
    "        x = torch.sigmoid(x)\n",
    "        return x\n",
    "\n",
    "net = Net()\n",
    "net.to(device)"
   ]
  },
  {
   "cell_type": "code",
   "execution_count": 30,
   "metadata": {},
   "outputs": [
    {
     "data": {
      "text/plain": [
       "{'free': 2809604, 'total': 8164892, 'used': 5355288}"
      ]
     },
     "execution_count": 30,
     "metadata": {},
     "output_type": "execute_result"
    }
   ],
   "source": [
    "memory()"
   ]
  },
  {
   "cell_type": "code",
   "execution_count": 31,
   "metadata": {},
   "outputs": [],
   "source": [
    "import torch.optim as optim\n",
    "\n",
    "criterion = nn.BCELoss()\n",
    "optimizer = optim.SGD(net.parameters(), lr=0.001, momentum=0.9)"
   ]
  },
  {
   "cell_type": "code",
   "execution_count": 39,
   "metadata": {
    "scrolled": true
   },
   "outputs": [
    {
     "name": "stdout",
     "output_type": "stream",
     "text": [
      "[1,    59] loss: 0.217570\n",
      "[2,    59] loss: 0.218072\n",
      "[3,    59] loss: 0.218816\n",
      "[4,    59] loss: 0.220005\n",
      "[5,    59] loss: 0.222506\n",
      "[6,    59] loss: 0.229518\n",
      "[7,    59] loss: 0.237925\n",
      "[8,    59] loss: 0.240271\n",
      "[9,    59] loss: 0.316396\n",
      "[10,    59] loss: 0.264901\n",
      "[11,    59] loss: 0.241148\n",
      "[12,    59] loss: 0.235760\n",
      "[13,    59] loss: 0.234947\n",
      "[14,    59] loss: 0.221972\n",
      "[15,    59] loss: 0.219807\n",
      "[16,    59] loss: 0.230453\n",
      "[17,    59] loss: 0.290100\n",
      "[18,    59] loss: 0.455360\n",
      "[19,    59] loss: 0.308506\n",
      "[20,    59] loss: 0.301530\n",
      "[21,    59] loss: 0.269003\n",
      "[22,    59] loss: 0.230780\n",
      "[23,    59] loss: 0.218632\n",
      "[24,    59] loss: 0.212694\n",
      "[25,    59] loss: 0.209186\n",
      "[26,    59] loss: 0.207051\n",
      "[27,    59] loss: 0.205799\n",
      "[28,    59] loss: 0.205007\n",
      "[29,    59] loss: 0.204632\n",
      "[30,    59] loss: 0.202177\n",
      "[31,    59] loss: 0.202415\n",
      "[32,    59] loss: 0.206482\n",
      "[33,    59] loss: 0.205562\n",
      "[34,    59] loss: 0.203665\n",
      "[35,    59] loss: 0.198954\n",
      "[36,    59] loss: 0.202226\n",
      "[37,    59] loss: 0.204069\n",
      "[38,    59] loss: 0.206310\n",
      "[39,    59] loss: 0.207083\n",
      "[40,    59] loss: 0.207099\n",
      "[41,    59] loss: 0.208954\n",
      "[42,    59] loss: 0.217002\n",
      "[43,    59] loss: 0.240265\n",
      "[44,    59] loss: 0.285019\n",
      "[45,    59] loss: 0.287889\n",
      "[46,    59] loss: 0.257464\n",
      "[47,    59] loss: 0.277580\n",
      "[48,    59] loss: 0.324606\n",
      "[49,    59] loss: 0.289000\n",
      "[50,    59] loss: 0.215870\n",
      "[51,    59] loss: 0.210708\n",
      "[52,    59] loss: 0.200259\n",
      "[53,    59] loss: 0.196032\n",
      "[54,    59] loss: 0.192066\n",
      "[55,    59] loss: 0.189857\n",
      "[56,    59] loss: 0.188152\n",
      "[57,    59] loss: 0.186575\n",
      "[58,    59] loss: 0.185525\n",
      "[59,    59] loss: 0.184048\n",
      "[60,    59] loss: 0.183172\n",
      "[61,    59] loss: 0.182115\n",
      "[62,    59] loss: 0.181247\n",
      "[63,    59] loss: 0.180601\n",
      "[64,    59] loss: 0.179267\n",
      "[65,    59] loss: 0.178696\n",
      "[66,    59] loss: 0.177973\n",
      "[67,    59] loss: 0.177839\n",
      "[68,    59] loss: 0.177330\n",
      "[69,    59] loss: 0.177046\n",
      "[70,    59] loss: 0.176344\n",
      "[71,    59] loss: 0.176740\n",
      "[72,    59] loss: 0.176418\n",
      "[73,    59] loss: 0.176294\n",
      "[74,    59] loss: 0.175850\n",
      "[75,    59] loss: 0.176025\n",
      "[76,    59] loss: 0.179338\n",
      "[77,    59] loss: 0.175881\n",
      "[78,    59] loss: 0.174718\n",
      "[79,    59] loss: 0.175187\n",
      "[80,    59] loss: 0.174927\n",
      "[81,    59] loss: 0.175084\n",
      "[82,    59] loss: 0.174675\n",
      "[83,    59] loss: 0.177207\n",
      "[84,    59] loss: 0.174607\n",
      "[85,    59] loss: 0.174584\n",
      "[86,    59] loss: 0.177025\n",
      "[87,    59] loss: 0.176204\n",
      "[88,    59] loss: 0.176323\n",
      "[89,    59] loss: 0.174167\n",
      "[90,    59] loss: 0.171919\n",
      "[91,    59] loss: 0.173591\n",
      "[92,    59] loss: 0.171488\n",
      "[93,    59] loss: 0.175020\n",
      "[94,    59] loss: 0.174765\n",
      "[95,    59] loss: 0.174366\n",
      "[96,    59] loss: 0.172657\n",
      "[97,    59] loss: 0.172190\n",
      "[98,    59] loss: 0.171710\n",
      "[99,    59] loss: 0.171222\n",
      "[100,    59] loss: 0.170814\n",
      "Finished Training\n"
     ]
    }
   ],
   "source": [
    "for epoch in range(100):  # loop over the dataset multiple times\n",
    "\n",
    "    running_loss = 0.0\n",
    "    for i, data in enumerate(trainset_loader, 0):\n",
    "        # get the inputs; data is a list of [inputs, labels]\n",
    "        x = data[0]\n",
    "        y = data[1].view(-1,1)\n",
    "\n",
    "        # zero the parameter gradients\n",
    "        optimizer.zero_grad()\n",
    "\n",
    "        # forward + backward + optimize\n",
    "        outputs = net(x)\n",
    "        loss = criterion(outputs, y)\n",
    "        loss.backward()\n",
    "        optimizer.step()\n",
    "\n",
    "        # print statistics\n",
    "        running_loss += loss.item()\n",
    "        if not i == 1 and i % 57 == 1:    # print every 1000 mini-batches\n",
    "            print('[%d, %5d] loss: %.6f' %\n",
    "                  (epoch + 1, i + 1, running_loss / 58))\n",
    "            running_loss = 0.0\n",
    "\n",
    "print('Finished Training')"
   ]
  },
  {
   "cell_type": "code",
   "execution_count": null,
   "metadata": {},
   "outputs": [],
   "source": [
    "testset = PosDataset(x_test, y_test)\n",
    "testset_loader = DataLoader(testset, batch_size=20)\n"
   ]
  },
  {
   "cell_type": "code",
   "execution_count": null,
   "metadata": {},
   "outputs": [],
   "source": [
    "x, y = next(iter(testset_loader))\n",
    "output = net(x)\n",
    "pprint(list(zip(y, output.data)))"
   ]
  },
  {
   "cell_type": "code",
   "execution_count": null,
   "metadata": {},
   "outputs": [],
   "source": [
    "output.data"
   ]
  },
  {
   "cell_type": "code",
   "execution_count": null,
   "metadata": {},
   "outputs": [],
   "source": [
    "correct = 0\n",
    "total = 0\n",
    "with torch.no_grad():\n",
    "    for data in testset_loader:\n",
    "        x, labels = data\n",
    "        outputs = net(x)\n",
    "        _, predicted = torch.max(outputs.data, 1)\n",
    "        total += labels.size(0)\n",
    "        correct += (predicted == labels).sum().item()\n",
    "\n",
    "print('Accuracy of the network on testset: %d %%' % (\n",
    "    100 * correct / total))"
   ]
  },
  {
   "cell_type": "code",
   "execution_count": 49,
   "metadata": {},
   "outputs": [],
   "source": [
    "from khaiii import KhaiiiApi"
   ]
  },
  {
   "cell_type": "code",
   "execution_count": 51,
   "metadata": {},
   "outputs": [],
   "source": [
    "api = KhaiiiApi()"
   ]
  },
  {
   "cell_type": "code",
   "execution_count": 45,
   "metadata": {},
   "outputs": [],
   "source": [
    "def tokenize(sentence):\n",
    "    sent_pos = []\n",
    "    for word in api.analyze(sentence):\n",
    "        pos = str(word).split('\\t')[1]\n",
    "        sent_pos.append(pos)\n",
    "    return sent_pos"
   ]
  },
  {
   "cell_type": "code",
   "execution_count": 46,
   "metadata": {},
   "outputs": [],
   "source": [
    "def term_frequency(doc):\n",
    "    result = []\n",
    "    for word in selected_words:\n",
    "        result.append(doc.count(word))\n",
    "    return result"
   ]
  },
  {
   "cell_type": "code",
   "execution_count": 84,
   "metadata": {},
   "outputs": [],
   "source": [
    "def predict_pos_neg(sentence):\n",
    "    tokens = tokenize(sentence)\n",
    "    input_vector = term_frequency(tokens)\n",
    "    converted = np.asarray(input_vector).astype('float32')\n",
    "    input_torch = torch.from_numpy(converted).view(-1,10000)\n",
    "    score = net(input_torch)\n",
    "    if score > 0.5:\n",
    "        print(\"[{}]는 {:.2f}% 확률로 긍정 리뷰이지 않을까 추측해봅니다.^^\\n\".format(sentence, score.item() * 100))\n",
    "    else:\n",
    "        print(\"[{}]는 {:.2f}% 확률로 부정 리뷰이지 않을까 추측해봅니다.^^;\\n\".format(sentence, (1 - score.item()) * 100))"
   ]
  },
  {
   "cell_type": "code",
   "execution_count": 86,
   "metadata": {},
   "outputs": [
    {
     "name": "stdout",
     "output_type": "stream",
     "text": [
      "[올해 최고의 영화! 세 번 넘게 봐도 질리지가 않네요.]는 100.00% 확률로 긍정 리뷰이지 않을까 추측해봅니다.^^\n",
      "\n",
      "[배경 음악이 영화의 분위기랑 너무 안 맞았습니다. 몰입에 방해가 됩니다.]는 99.82% 확률로 긍정 리뷰이지 않을까 추측해봅니다.^^\n",
      "\n",
      "[주연 배우가 신인인데 연기를 진짜 잘 하네요. 몰입감 ㅎㄷㄷ]는 100.00% 확률로 긍정 리뷰이지 않을까 추측해봅니다.^^\n",
      "\n",
      "[믿고 보는 감독이지만 이번에는 아니네요]는 99.98% 확률로 부정 리뷰이지 않을까 추측해봅니다.^^;\n",
      "\n",
      "[주연배우 때문에 봤어요]는 99.98% 확률로 긍정 리뷰이지 않을까 추측해봅니다.^^\n",
      "\n"
     ]
    }
   ],
   "source": [
    "predict_pos_neg(\"올해 최고의 영화! 세 번 넘게 봐도 질리지가 않네요.\")\n",
    "predict_pos_neg(\"배경 음악이 영화의 분위기랑 너무 안 맞았습니다. 몰입에 방해가 됩니다.\")\n",
    "predict_pos_neg(\"주연 배우가 신인인데 연기를 진짜 잘 하네요. 몰입감 ㅎㄷㄷ\")\n",
    "predict_pos_neg(\"믿고 보는 감독이지만 이번에는 아니네요\")\n",
    "predict_pos_neg(\"주연배우 때문에 봤어요\")"
   ]
  },
  {
   "cell_type": "code",
   "execution_count": 87,
   "metadata": {},
   "outputs": [
    {
     "name": "stdout",
     "output_type": "stream",
     "text": [
      "[이걸 영화라고]는 99.61% 확률로 부정 리뷰이지 않을까 추측해봅니다.^^;\n",
      "\n"
     ]
    }
   ],
   "source": [
    "predict_pos_neg(\"이걸 영화라고\")"
   ]
  },
  {
   "cell_type": "code",
   "execution_count": 88,
   "metadata": {},
   "outputs": [
    {
     "name": "stdout",
     "output_type": "stream",
     "text": [
      "[영화 자체는 나쁘지 않았음]는 99.87% 확률로 부정 리뷰이지 않을까 추측해봅니다.^^;\n",
      "\n"
     ]
    }
   ],
   "source": [
    "predict_pos_neg(\"영화 자체는 나쁘지 않았음\")"
   ]
  },
  {
   "cell_type": "code",
   "execution_count": null,
   "metadata": {},
   "outputs": [],
   "source": [
    "predict_pos_neg(\"지금 아직\")"
   ]
  }
 ],
 "metadata": {
  "kernelspec": {
   "display_name": "Python 3",
   "language": "python",
   "name": "python3"
  },
  "language_info": {
   "codemirror_mode": {
    "name": "ipython",
    "version": 3
   },
   "file_extension": ".py",
   "mimetype": "text/x-python",
   "name": "python",
   "nbconvert_exporter": "python",
   "pygments_lexer": "ipython3",
   "version": "3.7.1"
  }
 },
 "nbformat": 4,
 "nbformat_minor": 2
}
