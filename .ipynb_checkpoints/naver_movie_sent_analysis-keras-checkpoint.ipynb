{
 "cells": [
  {
   "cell_type": "markdown",
   "metadata": {},
   "source": [
    "# process"
   ]
  },
  {
   "cell_type": "code",
   "execution_count": 13,
   "metadata": {},
   "outputs": [],
   "source": [
    "with open('../../data/nsmc/train_docs.bin', 'rb') as fp:\n",
    "    train_docs = pickle.load(fp)"
   ]
  },
  {
   "cell_type": "code",
   "execution_count": 14,
   "metadata": {},
   "outputs": [],
   "source": [
    "with open('../../data/nsmc/test_docs.bin', 'rb') as fp:\n",
    "    test_docs = pickle.load(fp)"
   ]
  },
  {
   "cell_type": "code",
   "execution_count": 15,
   "metadata": {},
   "outputs": [
    {
     "data": {
      "text/plain": [
       "{'free': 7103924, 'total': 8164892, 'used': 1060968}"
      ]
     },
     "execution_count": 15,
     "metadata": {},
     "output_type": "execute_result"
    }
   ],
   "source": [
    "memory()"
   ]
  },
  {
   "cell_type": "code",
   "execution_count": 16,
   "metadata": {},
   "outputs": [
    {
     "data": {
      "text/plain": [
       "149995"
      ]
     },
     "execution_count": 16,
     "metadata": {},
     "output_type": "execute_result"
    }
   ],
   "source": [
    "len(train_docs)"
   ]
  },
  {
   "cell_type": "code",
   "execution_count": 17,
   "metadata": {},
   "outputs": [],
   "source": [
    "with open('../../data/nsmc/tokens.bin', 'rb') as fp:\n",
    "    tokens = pickle.load(fp)"
   ]
  },
  {
   "cell_type": "code",
   "execution_count": 18,
   "metadata": {},
   "outputs": [
    {
     "data": {
      "text/plain": [
       "1137736"
      ]
     },
     "execution_count": 18,
     "metadata": {},
     "output_type": "execute_result"
    }
   ],
   "source": [
    "len(tokens)"
   ]
  },
  {
   "cell_type": "code",
   "execution_count": 19,
   "metadata": {},
   "outputs": [],
   "source": [
    "text = nltk.Text(tokens, name='NMSC')"
   ]
  },
  {
   "cell_type": "code",
   "execution_count": 20,
   "metadata": {
    "scrolled": true
   },
   "outputs": [
    {
     "name": "stdout",
     "output_type": "stream",
     "text": [
      "385509\n"
     ]
    }
   ],
   "source": [
    "print(len(set(text.tokens)))"
   ]
  },
  {
   "cell_type": "code",
   "execution_count": 21,
   "metadata": {},
   "outputs": [],
   "source": [
    "selected_words = [f[0] for f in text.vocab().most_common(10000)]"
   ]
  },
  {
   "cell_type": "code",
   "execution_count": 22,
   "metadata": {},
   "outputs": [],
   "source": [
    "def term_frequency(doc):\n",
    "    result = []\n",
    "    for word in selected_words:\n",
    "        result.append(doc.count(word))\n",
    "    return result\n"
   ]
  },
  {
   "cell_type": "code",
   "execution_count": 71,
   "metadata": {},
   "outputs": [
    {
     "name": "stdout",
     "output_type": "stream",
     "text": [
      "{'total': 4042276, 'free': 1502516, 'used': 2539760}\n",
      "{'total': 4042276, 'free': 1502512, 'used': 2539764}\n",
      "{'total': 4042276, 'free': 1502512, 'used': 2539764}\n",
      "{'total': 4042276, 'free': 1502512, 'used': 2539764}\n",
      "{'total': 4042276, 'free': 1502528, 'used': 2539748}\n",
      "{'total': 4042276, 'free': 1502528, 'used': 2539748}\n",
      "{'total': 4042276, 'free': 1502528, 'used': 2539748}\n",
      "{'total': 4042276, 'free': 1502528, 'used': 2539748}\n",
      "{'total': 4042276, 'free': 1502660, 'used': 2539616}\n",
      "{'total': 4042276, 'free': 1502660, 'used': 2539616}\n",
      "{'total': 4042276, 'free': 1502660, 'used': 2539616}\n",
      "{'total': 4042276, 'free': 1502660, 'used': 2539616}\n",
      "{'total': 4042276, 'free': 1502660, 'used': 2539616}\n",
      "{'total': 4042276, 'free': 1502660, 'used': 2539616}\n",
      "{'total': 4042276, 'free': 1502664, 'used': 2539612}\n",
      "{'total': 4042276, 'free': 1502664, 'used': 2539612}\n",
      "{'total': 4042276, 'free': 1502664, 'used': 2539612}\n",
      "{'total': 4042276, 'free': 1502288, 'used': 2539988}\n",
      "{'total': 4042276, 'free': 1501544, 'used': 2540732}\n",
      "{'total': 4042276, 'free': 1501560, 'used': 2540716}\n",
      "{'total': 4042276, 'free': 1501568, 'used': 2540708}\n",
      "{'total': 4042276, 'free': 1485572, 'used': 2556704}\n",
      "{'total': 4042276, 'free': 1403732, 'used': 2638544}\n",
      "{'total': 4042276, 'free': 1321520, 'used': 2720756}\n",
      "{'total': 4042276, 'free': 1239060, 'used': 2803216}\n",
      "{'total': 4042276, 'free': 1156848, 'used': 2885428}\n",
      "{'total': 4042276, 'free': 1074512, 'used': 2967764}\n",
      "{'total': 4042276, 'free': 992300, 'used': 3049976}\n",
      "{'total': 4042276, 'free': 909964, 'used': 3132312}\n",
      "{'total': 4042276, 'free': 827628, 'used': 3214648}\n",
      "{'total': 4042276, 'free': 1554772, 'used': 2487504}\n",
      "{'total': 4042276, 'free': 1554680, 'used': 2487596}\n",
      "{'total': 4042276, 'free': 1554612, 'used': 2487664}\n",
      "{'total': 4042276, 'free': 1554564, 'used': 2487712}\n",
      "{'total': 4042276, 'free': 1554636, 'used': 2487640}\n",
      "{'total': 4042276, 'free': 1554676, 'used': 2487600}\n",
      "{'total': 4042276, 'free': 1554676, 'used': 2487600}\n",
      "{'total': 4042276, 'free': 1554636, 'used': 2487640}\n",
      "{'total': 4042276, 'free': 1554636, 'used': 2487640}\n",
      "{'total': 4042276, 'free': 1554636, 'used': 2487640}\n",
      "{'total': 4042276, 'free': 1554636, 'used': 2487640}\n",
      "{'total': 4042276, 'free': 1554584, 'used': 2487692}\n",
      "{'total': 4042276, 'free': 1553584, 'used': 2488692}\n",
      "{'total': 4042276, 'free': 1545440, 'used': 2496836}\n",
      "{'total': 4042276, 'free': 1545316, 'used': 2496960}\n",
      "{'total': 4042276, 'free': 1545316, 'used': 2496960}\n",
      "{'total': 4042276, 'free': 1544284, 'used': 2497992}\n",
      "{'total': 4042276, 'free': 1544196, 'used': 2498080}\n",
      "{'total': 4042276, 'free': 1544196, 'used': 2498080}\n",
      "{'total': 4042276, 'free': 1544200, 'used': 2498076}\n",
      "{'total': 4042276, 'free': 1544196, 'used': 2498080}\n",
      "{'total': 4042276, 'free': 1528076, 'used': 2514200}\n",
      "{'total': 4042276, 'free': 1445828, 'used': 2596448}\n",
      "{'total': 4042276, 'free': 1363620, 'used': 2678656}\n",
      "{'total': 4042276, 'free': 1281408, 'used': 2760868}\n",
      "{'total': 4042276, 'free': 1199068, 'used': 2843208}\n",
      "{'total': 4042276, 'free': 1116744, 'used': 2925532}\n",
      "{'total': 4042276, 'free': 1034396, 'used': 3007880}\n",
      "{'total': 4042276, 'free': 952192, 'used': 3090084}\n",
      "{'total': 4042276, 'free': 869360, 'used': 3172916}\n",
      "{'total': 4042276, 'free': 1552328, 'used': 2489948}\n",
      "{'total': 4042276, 'free': 1552224, 'used': 2490052}\n",
      "{'total': 4042276, 'free': 1552176, 'used': 2490100}\n",
      "{'total': 4042276, 'free': 1552124, 'used': 2490152}\n",
      "{'total': 4042276, 'free': 1552128, 'used': 2490148}\n",
      "{'total': 4042276, 'free': 1552124, 'used': 2490152}\n",
      "{'total': 4042276, 'free': 1552088, 'used': 2490188}\n",
      "{'total': 4042276, 'free': 1552088, 'used': 2490188}\n",
      "{'total': 4042276, 'free': 1548624, 'used': 2493652}\n",
      "{'total': 4042276, 'free': 1548556, 'used': 2493720}\n",
      "{'total': 4042276, 'free': 1548556, 'used': 2493720}\n",
      "{'total': 4042276, 'free': 1548936, 'used': 2493340}\n",
      "{'total': 4042276, 'free': 1548932, 'used': 2493344}\n",
      "{'total': 4042276, 'free': 1542936, 'used': 2499340}\n",
      "{'total': 4042276, 'free': 1542572, 'used': 2499704}\n",
      "{'total': 4042276, 'free': 1542572, 'used': 2499704}\n",
      "{'total': 4042276, 'free': 1542744, 'used': 2499532}\n",
      "{'total': 4042276, 'free': 1542368, 'used': 2499908}\n",
      "{'total': 4042276, 'free': 1542368, 'used': 2499908}\n",
      "{'total': 4042276, 'free': 1542380, 'used': 2499896}\n",
      "{'total': 4042276, 'free': 1542396, 'used': 2499880}\n",
      "{'total': 4042276, 'free': 1526148, 'used': 2516128}\n",
      "{'total': 4042276, 'free': 1444180, 'used': 2598096}\n",
      "{'total': 4042276, 'free': 1361724, 'used': 2680552}\n",
      "{'total': 4042276, 'free': 1279508, 'used': 2762768}\n",
      "{'total': 4042276, 'free': 1197172, 'used': 2845104}\n",
      "{'total': 4042276, 'free': 1114836, 'used': 2927440}\n",
      "{'total': 4042276, 'free': 1032500, 'used': 3009776}\n",
      "{'total': 4042276, 'free': 950164, 'used': 3092112}\n",
      "{'total': 4042276, 'free': 867456, 'used': 3174820}\n",
      "{'total': 4042276, 'free': 1555588, 'used': 2486688}\n",
      "{'total': 4042276, 'free': 1555508, 'used': 2486768}\n",
      "{'total': 4042276, 'free': 1555564, 'used': 2486712}\n",
      "{'total': 4042276, 'free': 1555608, 'used': 2486668}\n",
      "{'total': 4042276, 'free': 1555552, 'used': 2486724}\n",
      "{'total': 4042276, 'free': 1555448, 'used': 2486828}\n",
      "{'total': 4042276, 'free': 1555460, 'used': 2486816}\n",
      "{'total': 4042276, 'free': 1555472, 'used': 2486804}\n",
      "{'total': 4042276, 'free': 1555428, 'used': 2486848}\n",
      "{'total': 4042276, 'free': 1555440, 'used': 2486836}\n",
      "{'total': 4042276, 'free': 1555428, 'used': 2486848}\n",
      "{'total': 4042276, 'free': 1555500, 'used': 2486776}\n",
      "{'total': 4042276, 'free': 1555508, 'used': 2486768}\n",
      "{'total': 4042276, 'free': 1547904, 'used': 2494372}\n",
      "{'total': 4042276, 'free': 1547904, 'used': 2494372}\n",
      "{'total': 4042276, 'free': 1547904, 'used': 2494372}\n",
      "{'total': 4042276, 'free': 1546588, 'used': 2495688}\n",
      "{'total': 4042276, 'free': 1546528, 'used': 2495748}\n",
      "{'total': 4042276, 'free': 1546528, 'used': 2495748}\n",
      "{'total': 4042276, 'free': 1546528, 'used': 2495748}\n",
      "{'total': 4042276, 'free': 1546528, 'used': 2495748}\n",
      "{'total': 4042276, 'free': 1530532, 'used': 2511744}\n",
      "{'total': 4042276, 'free': 1448408, 'used': 2593868}\n",
      "{'total': 4042276, 'free': 1366072, 'used': 2676204}\n",
      "{'total': 4042276, 'free': 1283740, 'used': 2758536}\n",
      "{'total': 4042276, 'free': 1201524, 'used': 2840752}\n",
      "{'total': 4042276, 'free': 1119068, 'used': 2923208}\n",
      "{'total': 4042276, 'free': 1036860, 'used': 3005416}\n",
      "{'total': 4042276, 'free': 954648, 'used': 3087628}\n",
      "{'total': 4042276, 'free': 871808, 'used': 3170468}\n",
      "{'total': 4042276, 'free': 1555840, 'used': 2486436}\n",
      "{'total': 4042276, 'free': 1555824, 'used': 2486452}\n",
      "{'total': 4042276, 'free': 1555780, 'used': 2486496}\n",
      "{'total': 4042276, 'free': 1555820, 'used': 2486456}\n",
      "{'total': 4042276, 'free': 1555708, 'used': 2486568}\n",
      "{'total': 4042276, 'free': 1555764, 'used': 2486512}\n",
      "{'total': 4042276, 'free': 1555776, 'used': 2486500}\n",
      "{'total': 4042276, 'free': 1555776, 'used': 2486500}\n",
      "{'total': 4042276, 'free': 1551956, 'used': 2490320}\n",
      "{'total': 4042276, 'free': 1551960, 'used': 2490316}\n",
      "{'total': 4042276, 'free': 1551960, 'used': 2490316}\n",
      "{'total': 4042276, 'free': 1552088, 'used': 2490188}\n",
      "{'total': 4042276, 'free': 1551320, 'used': 2490956}\n",
      "{'total': 4042276, 'free': 1544860, 'used': 2497416}\n",
      "{'total': 4042276, 'free': 1544856, 'used': 2497420}\n",
      "{'total': 4042276, 'free': 1544868, 'used': 2497408}\n",
      "{'total': 4042276, 'free': 1544720, 'used': 2497556}\n",
      "{'total': 4042276, 'free': 1544160, 'used': 2498116}\n",
      "{'total': 4042276, 'free': 1544200, 'used': 2498076}\n",
      "{'total': 4042276, 'free': 1544300, 'used': 2497976}\n",
      "{'total': 4042276, 'free': 1544344, 'used': 2497932}\n",
      "{'total': 4042276, 'free': 1528220, 'used': 2514056}\n",
      "{'total': 4042276, 'free': 1446500, 'used': 2595776}\n",
      "{'total': 4042276, 'free': 1364288, 'used': 2677988}\n",
      "{'total': 4042276, 'free': 1281828, 'used': 2760448}\n",
      "{'total': 4042276, 'free': 1199616, 'used': 2842660}\n",
      "{'total': 4042276, 'free': 1117280, 'used': 2924996}\n",
      "{'total': 4042276, 'free': 1034916, 'used': 3007360}\n",
      "{'total': 4042276, 'free': 952724, 'used': 3089552}\n",
      "{'total': 4042276, 'free': 870000, 'used': 3172276}\n"
     ]
    }
   ],
   "source": [
    "train_x = []\n",
    "i = 0\n",
    "for i, dd in enumerate(train_docs):\n",
    "    if i % 1000 == 0:\n",
    "        print(memory())\n",
    "    if not i == 0 and i % 29999 == 0:\n",
    "        with open('../../data/nsmc/train_x_' + str(i) + '.bin', 'wb') as fp:\n",
    "            pickle.dump(train_x, fp)\n",
    "            train_x.clear()\n",
    "    if not i == 0 and i % 149994 == 0:\n",
    "        with open('../../data/nsmc/train_x_' + str(i) + '.bin', 'wb') as fp:\n",
    "            pickle.dump(train_x, fp)\n",
    "            train_x.clear()\n",
    "    train_x.append(term_frequency(dd[0]))"
   ]
  },
  {
   "cell_type": "code",
   "execution_count": 23,
   "metadata": {},
   "outputs": [
    {
     "data": {
      "text/plain": [
       "49997"
      ]
     },
     "execution_count": 23,
     "metadata": {},
     "output_type": "execute_result"
    }
   ],
   "source": [
    "len(test_docs)"
   ]
  },
  {
   "cell_type": "code",
   "execution_count": 26,
   "metadata": {},
   "outputs": [
    {
     "name": "stdout",
     "output_type": "stream",
     "text": [
      "{'total': 8164892, 'free': 5487688, 'used': 2677204}\n",
      "{'total': 8164892, 'free': 5487688, 'used': 2677204}\n",
      "{'total': 8164892, 'free': 5487704, 'used': 2677188}\n",
      "{'total': 8164892, 'free': 5487704, 'used': 2677188}\n",
      "{'total': 8164892, 'free': 5487704, 'used': 2677188}\n",
      "{'total': 8164892, 'free': 5487580, 'used': 2677312}\n",
      "{'total': 8164892, 'free': 5487580, 'used': 2677312}\n",
      "{'total': 8164892, 'free': 5487580, 'used': 2677312}\n",
      "{'total': 8164892, 'free': 5487580, 'used': 2677312}\n",
      "{'total': 8164892, 'free': 5487580, 'used': 2677312}\n",
      "{'total': 8164892, 'free': 5487580, 'used': 2677312}\n",
      "{'total': 8164892, 'free': 5487580, 'used': 2677312}\n",
      "{'total': 8164892, 'free': 5487588, 'used': 2677304}\n",
      "{'total': 8164892, 'free': 5487588, 'used': 2677304}\n",
      "{'total': 8164892, 'free': 5487588, 'used': 2677304}\n",
      "{'total': 8164892, 'free': 5487588, 'used': 2677304}\n",
      "{'total': 8164892, 'free': 5487572, 'used': 2677320}\n",
      "{'total': 8164892, 'free': 5487572, 'used': 2677320}\n",
      "{'total': 8164892, 'free': 5487572, 'used': 2677320}\n",
      "{'total': 8164892, 'free': 5487572, 'used': 2677320}\n",
      "{'total': 8164892, 'free': 5487572, 'used': 2677320}\n",
      "{'total': 8164892, 'free': 5487572, 'used': 2677320}\n",
      "{'total': 8164892, 'free': 5487572, 'used': 2677320}\n",
      "{'total': 8164892, 'free': 5487572, 'used': 2677320}\n",
      "{'total': 8164892, 'free': 5487572, 'used': 2677320}\n",
      "{'total': 8164892, 'free': 5487572, 'used': 2677320}\n",
      "{'total': 8164892, 'free': 5487572, 'used': 2677320}\n",
      "{'total': 8164892, 'free': 5487572, 'used': 2677320}\n",
      "{'total': 8164892, 'free': 5487572, 'used': 2677320}\n",
      "{'total': 8164892, 'free': 5487572, 'used': 2677320}\n",
      "{'total': 8164892, 'free': 5487632, 'used': 2677260}\n",
      "{'total': 8164892, 'free': 5487632, 'used': 2677260}\n",
      "{'total': 8164892, 'free': 5487632, 'used': 2677260}\n",
      "{'total': 8164892, 'free': 5487632, 'used': 2677260}\n",
      "{'total': 8164892, 'free': 5487632, 'used': 2677260}\n",
      "{'total': 8164892, 'free': 5487632, 'used': 2677260}\n",
      "{'total': 8164892, 'free': 5487632, 'used': 2677260}\n",
      "{'total': 8164892, 'free': 5487632, 'used': 2677260}\n",
      "{'total': 8164892, 'free': 5487632, 'used': 2677260}\n",
      "{'total': 8164892, 'free': 5487632, 'used': 2677260}\n",
      "{'total': 8164892, 'free': 5487632, 'used': 2677260}\n",
      "{'total': 8164892, 'free': 5487632, 'used': 2677260}\n",
      "{'total': 8164892, 'free': 5487632, 'used': 2677260}\n",
      "{'total': 8164892, 'free': 5487632, 'used': 2677260}\n",
      "{'total': 8164892, 'free': 5487632, 'used': 2677260}\n",
      "{'total': 8164892, 'free': 5487632, 'used': 2677260}\n",
      "{'total': 8164892, 'free': 5487632, 'used': 2677260}\n",
      "{'total': 8164892, 'free': 5487632, 'used': 2677260}\n",
      "{'total': 8164892, 'free': 5487632, 'used': 2677260}\n",
      "{'total': 8164892, 'free': 5487632, 'used': 2677260}\n",
      "{'total': 8164892, 'free': 5487632, 'used': 2677260}\n",
      "{'total': 8164892, 'free': 5487632, 'used': 2677260}\n",
      "{'total': 8164892, 'free': 5487632, 'used': 2677260}\n",
      "{'total': 8164892, 'free': 5487632, 'used': 2677260}\n",
      "{'total': 8164892, 'free': 5487632, 'used': 2677260}\n",
      "{'total': 8164892, 'free': 5487632, 'used': 2677260}\n",
      "{'total': 8164892, 'free': 5487632, 'used': 2677260}\n",
      "{'total': 8164892, 'free': 5487632, 'used': 2677260}\n",
      "{'total': 8164892, 'free': 5487632, 'used': 2677260}\n",
      "{'total': 8164892, 'free': 5487632, 'used': 2677260}\n",
      "{'total': 8164892, 'free': 5487692, 'used': 2677200}\n",
      "{'total': 8164892, 'free': 5487692, 'used': 2677200}\n",
      "{'total': 8164892, 'free': 5487692, 'used': 2677200}\n",
      "{'total': 8164892, 'free': 5487692, 'used': 2677200}\n",
      "{'total': 8164892, 'free': 5487692, 'used': 2677200}\n",
      "{'total': 8164892, 'free': 5487692, 'used': 2677200}\n",
      "{'total': 8164892, 'free': 5487692, 'used': 2677200}\n",
      "{'total': 8164892, 'free': 5487692, 'used': 2677200}\n",
      "{'total': 8164892, 'free': 5487692, 'used': 2677200}\n",
      "{'total': 8164892, 'free': 5487692, 'used': 2677200}\n",
      "{'total': 8164892, 'free': 5487692, 'used': 2677200}\n",
      "{'total': 8164892, 'free': 5487692, 'used': 2677200}\n",
      "{'total': 8164892, 'free': 5487692, 'used': 2677200}\n",
      "{'total': 8164892, 'free': 5487692, 'used': 2677200}\n",
      "{'total': 8164892, 'free': 5487692, 'used': 2677200}\n",
      "{'total': 8164892, 'free': 5487692, 'used': 2677200}\n",
      "{'total': 8164892, 'free': 5487692, 'used': 2677200}\n",
      "{'total': 8164892, 'free': 5487692, 'used': 2677200}\n",
      "{'total': 8164892, 'free': 5487692, 'used': 2677200}\n",
      "{'total': 8164892, 'free': 5487692, 'used': 2677200}\n",
      "{'total': 8164892, 'free': 5487692, 'used': 2677200}\n",
      "{'total': 8164892, 'free': 5487692, 'used': 2677200}\n",
      "{'total': 8164892, 'free': 5487692, 'used': 2677200}\n",
      "{'total': 8164892, 'free': 5487692, 'used': 2677200}\n",
      "{'total': 8164892, 'free': 5487692, 'used': 2677200}\n",
      "{'total': 8164892, 'free': 5487692, 'used': 2677200}\n",
      "{'total': 8164892, 'free': 5487692, 'used': 2677200}\n",
      "{'total': 8164892, 'free': 5487692, 'used': 2677200}\n",
      "{'total': 8164892, 'free': 5487692, 'used': 2677200}\n",
      "{'total': 8164892, 'free': 5487692, 'used': 2677200}\n",
      "{'total': 8164892, 'free': 5487612, 'used': 2677280}\n",
      "{'total': 8164892, 'free': 5487612, 'used': 2677280}\n",
      "{'total': 8164892, 'free': 5487612, 'used': 2677280}\n",
      "{'total': 8164892, 'free': 5487612, 'used': 2677280}\n",
      "{'total': 8164892, 'free': 5487612, 'used': 2677280}\n",
      "{'total': 8164892, 'free': 5487612, 'used': 2677280}\n",
      "{'total': 8164892, 'free': 5487612, 'used': 2677280}\n",
      "{'total': 8164892, 'free': 5487612, 'used': 2677280}\n",
      "{'total': 8164892, 'free': 5487612, 'used': 2677280}\n",
      "{'total': 8164892, 'free': 5487612, 'used': 2677280}\n",
      "{'total': 8164892, 'free': 5487612, 'used': 2677280}\n",
      "{'total': 8164892, 'free': 5487612, 'used': 2677280}\n",
      "{'total': 8164892, 'free': 5487612, 'used': 2677280}\n",
      "{'total': 8164892, 'free': 5487612, 'used': 2677280}\n",
      "{'total': 8164892, 'free': 5487612, 'used': 2677280}\n",
      "{'total': 8164892, 'free': 5487612, 'used': 2677280}\n",
      "{'total': 8164892, 'free': 5487612, 'used': 2677280}\n",
      "{'total': 8164892, 'free': 5487612, 'used': 2677280}\n",
      "{'total': 8164892, 'free': 5487612, 'used': 2677280}\n",
      "{'total': 8164892, 'free': 5487612, 'used': 2677280}\n",
      "{'total': 8164892, 'free': 5487612, 'used': 2677280}\n",
      "{'total': 8164892, 'free': 5487612, 'used': 2677280}\n",
      "{'total': 8164892, 'free': 5487612, 'used': 2677280}\n",
      "{'total': 8164892, 'free': 5487612, 'used': 2677280}\n",
      "{'total': 8164892, 'free': 5487612, 'used': 2677280}\n",
      "{'total': 8164892, 'free': 5487612, 'used': 2677280}\n",
      "{'total': 8164892, 'free': 5487612, 'used': 2677280}\n",
      "{'total': 8164892, 'free': 5487612, 'used': 2677280}\n",
      "{'total': 8164892, 'free': 5487612, 'used': 2677280}\n",
      "{'total': 8164892, 'free': 5487612, 'used': 2677280}\n",
      "{'total': 8164892, 'free': 5487672, 'used': 2677220}\n",
      "{'total': 8164892, 'free': 5487672, 'used': 2677220}\n",
      "{'total': 8164892, 'free': 5487672, 'used': 2677220}\n",
      "{'total': 8164892, 'free': 5487672, 'used': 2677220}\n",
      "{'total': 8164892, 'free': 5487672, 'used': 2677220}\n",
      "{'total': 8164892, 'free': 5487672, 'used': 2677220}\n",
      "{'total': 8164892, 'free': 5487672, 'used': 2677220}\n",
      "{'total': 8164892, 'free': 5487672, 'used': 2677220}\n",
      "{'total': 8164892, 'free': 5487672, 'used': 2677220}\n",
      "{'total': 8164892, 'free': 5487672, 'used': 2677220}\n",
      "{'total': 8164892, 'free': 5487672, 'used': 2677220}\n",
      "{'total': 8164892, 'free': 5487672, 'used': 2677220}\n",
      "{'total': 8164892, 'free': 5487672, 'used': 2677220}\n",
      "{'total': 8164892, 'free': 5487672, 'used': 2677220}\n",
      "{'total': 8164892, 'free': 5487672, 'used': 2677220}\n",
      "{'total': 8164892, 'free': 5487672, 'used': 2677220}\n",
      "{'total': 8164892, 'free': 5487672, 'used': 2677220}\n",
      "{'total': 8164892, 'free': 5487672, 'used': 2677220}\n",
      "{'total': 8164892, 'free': 5487672, 'used': 2677220}\n",
      "{'total': 8164892, 'free': 5487672, 'used': 2677220}\n",
      "{'total': 8164892, 'free': 5487672, 'used': 2677220}\n",
      "{'total': 8164892, 'free': 5487672, 'used': 2677220}\n",
      "{'total': 8164892, 'free': 5487672, 'used': 2677220}\n",
      "{'total': 8164892, 'free': 5487672, 'used': 2677220}\n",
      "{'total': 8164892, 'free': 5487672, 'used': 2677220}\n",
      "{'total': 8164892, 'free': 5487672, 'used': 2677220}\n",
      "{'total': 8164892, 'free': 5487672, 'used': 2677220}\n",
      "{'total': 8164892, 'free': 5487672, 'used': 2677220}\n",
      "{'total': 8164892, 'free': 5487672, 'used': 2677220}\n",
      "{'total': 8164892, 'free': 5487672, 'used': 2677220}\n"
     ]
    }
   ],
   "source": [
    "train_y = []\n",
    "i = 0\n",
    "for i, dd in enumerate(train_docs):\n",
    "    if i % 1000 == 0:\n",
    "        print(memory())\n",
    "    if not i == 0 and i % 29999 == 0:\n",
    "        with open('../../data/nsmc/train_y_' + str(i) + '.bin', 'wb') as fp:\n",
    "            pickle.dump(train_y, fp)\n",
    "            train_y.clear()\n",
    "    if not i == 0 and i % 149994 == 0:\n",
    "        with open('../../data/nsmc/train_y_' + str(i) + '.bin', 'wb') as fp:\n",
    "            pickle.dump(train_y, fp)\n",
    "            train_y.clear()\n",
    "    train_y.append(dd[1])"
   ]
  },
  {
   "cell_type": "code",
   "execution_count": 24,
   "metadata": {
    "scrolled": true
   },
   "outputs": [
    {
     "name": "stdout",
     "output_type": "stream",
     "text": [
      "{'total': 8164892, 'free': 6956784, 'used': 1208108}\n",
      "{'total': 8164892, 'free': 6956804, 'used': 1208088}\n",
      "{'total': 8164892, 'free': 6956804, 'used': 1208088}\n",
      "{'total': 8164892, 'free': 6922580, 'used': 1242312}\n",
      "{'total': 8164892, 'free': 6840376, 'used': 1324516}\n",
      "{'total': 8164892, 'free': 6758164, 'used': 1406728}\n",
      "{'total': 8164892, 'free': 6675952, 'used': 1488940}\n",
      "{'total': 8164892, 'free': 6593616, 'used': 1571276}\n",
      "{'total': 8164892, 'free': 6511156, 'used': 1653736}\n",
      "{'total': 8164892, 'free': 6428820, 'used': 1736072}\n",
      "{'total': 8164892, 'free': 6346484, 'used': 1818408}\n",
      "{'total': 8164892, 'free': 6264024, 'used': 1900868}\n",
      "{'total': 8164892, 'free': 6181812, 'used': 1983080}\n",
      "{'total': 8164892, 'free': 6099476, 'used': 2065416}\n",
      "{'total': 8164892, 'free': 6017016, 'used': 2147876}\n",
      "{'total': 8164892, 'free': 5934680, 'used': 2230212}\n",
      "{'total': 8164892, 'free': 5853588, 'used': 2311304}\n",
      "{'total': 8164892, 'free': 5771128, 'used': 2393764}\n",
      "{'total': 8164892, 'free': 5688792, 'used': 2476100}\n",
      "{'total': 8164892, 'free': 5606456, 'used': 2558436}\n",
      "{'total': 8164892, 'free': 5523872, 'used': 2641020}\n",
      "{'total': 8164892, 'free': 5441660, 'used': 2723232}\n",
      "{'total': 8164892, 'free': 5359324, 'used': 2805568}\n",
      "{'total': 8164892, 'free': 5276864, 'used': 2888028}\n",
      "{'total': 8164892, 'free': 5194528, 'used': 2970364}\n",
      "{'total': 8164892, 'free': 5112192, 'used': 3052700}\n",
      "{'total': 8164892, 'free': 5029732, 'used': 3135160}\n",
      "{'total': 8164892, 'free': 4947396, 'used': 3217496}\n",
      "{'total': 8164892, 'free': 4865060, 'used': 3299832}\n",
      "{'total': 8164892, 'free': 4782600, 'used': 3382292}\n",
      "{'total': 8164892, 'free': 5540864, 'used': 2624028}\n",
      "{'total': 8164892, 'free': 5540864, 'used': 2624028}\n",
      "{'total': 8164892, 'free': 5540864, 'used': 2624028}\n",
      "{'total': 8164892, 'free': 5540864, 'used': 2624028}\n",
      "{'total': 8164892, 'free': 5540864, 'used': 2624028}\n",
      "{'total': 8164892, 'free': 5540864, 'used': 2624028}\n",
      "{'total': 8164892, 'free': 5540864, 'used': 2624028}\n",
      "{'total': 8164892, 'free': 5540864, 'used': 2624028}\n",
      "{'total': 8164892, 'free': 5540864, 'used': 2624028}\n",
      "{'total': 8164892, 'free': 5540988, 'used': 2623904}\n",
      "{'total': 8164892, 'free': 5540988, 'used': 2623904}\n",
      "{'total': 8164892, 'free': 5540740, 'used': 2624152}\n",
      "{'total': 8164892, 'free': 5537392, 'used': 2627500}\n",
      "{'total': 8164892, 'free': 5533920, 'used': 2630972}\n",
      "{'total': 8164892, 'free': 5530572, 'used': 2634320}\n",
      "{'total': 8164892, 'free': 5527224, 'used': 2637668}\n",
      "{'total': 8164892, 'free': 5523752, 'used': 2641140}\n",
      "{'total': 8164892, 'free': 5520404, 'used': 2644488}\n",
      "{'total': 8164892, 'free': 5517056, 'used': 2647836}\n",
      "{'total': 8164892, 'free': 5513584, 'used': 2651308}\n"
     ]
    }
   ],
   "source": [
    "test_x = []\n",
    "i = 0\n",
    "for i, dd in enumerate(test_docs):\n",
    "    if i % 1000 == 0:\n",
    "        print(memory())\n",
    "    if not i == 0 and i % 29999 == 0:\n",
    "        with open('../../data/nsmc/test_x_' + str(i) + '.bin', 'wb') as fp:\n",
    "            pickle.dump(test_x, fp)\n",
    "            test_x.clear()\n",
    "    if not i == 0 and i % 49996 == 0:\n",
    "        with open('../../data/nsmc/test_x_' + str(i) + '.bin', 'wb') as fp:\n",
    "            pickle.dump(test_x, fp)\n",
    "            test_x.clear()\n",
    "    test_x.append(term_frequency(dd[0]))"
   ]
  },
  {
   "cell_type": "code",
   "execution_count": 28,
   "metadata": {},
   "outputs": [
    {
     "data": {
      "text/plain": [
       "49997"
      ]
     },
     "execution_count": 28,
     "metadata": {},
     "output_type": "execute_result"
    }
   ],
   "source": [
    "len(test_docs)"
   ]
  },
  {
   "cell_type": "code",
   "execution_count": 29,
   "metadata": {
    "scrolled": true
   },
   "outputs": [
    {
     "name": "stdout",
     "output_type": "stream",
     "text": [
      "{'total': 8164892, 'free': 5489452, 'used': 2675440}\n",
      "{'total': 8164892, 'free': 5489452, 'used': 2675440}\n",
      "{'total': 8164892, 'free': 5489452, 'used': 2675440}\n",
      "{'total': 8164892, 'free': 5489452, 'used': 2675440}\n",
      "{'total': 8164892, 'free': 5489452, 'used': 2675440}\n",
      "{'total': 8164892, 'free': 5489456, 'used': 2675436}\n",
      "{'total': 8164892, 'free': 5489456, 'used': 2675436}\n",
      "{'total': 8164892, 'free': 5489456, 'used': 2675436}\n",
      "{'total': 8164892, 'free': 5489456, 'used': 2675436}\n",
      "{'total': 8164892, 'free': 5489456, 'used': 2675436}\n",
      "{'total': 8164892, 'free': 5489456, 'used': 2675436}\n",
      "{'total': 8164892, 'free': 5489456, 'used': 2675436}\n",
      "{'total': 8164892, 'free': 5489456, 'used': 2675436}\n",
      "{'total': 8164892, 'free': 5489460, 'used': 2675432}\n",
      "{'total': 8164892, 'free': 5489460, 'used': 2675432}\n",
      "{'total': 8164892, 'free': 5489460, 'used': 2675432}\n",
      "{'total': 8164892, 'free': 5489460, 'used': 2675432}\n",
      "{'total': 8164892, 'free': 5489460, 'used': 2675432}\n",
      "{'total': 8164892, 'free': 5489460, 'used': 2675432}\n",
      "{'total': 8164892, 'free': 5489460, 'used': 2675432}\n",
      "{'total': 8164892, 'free': 5489460, 'used': 2675432}\n",
      "{'total': 8164892, 'free': 5489460, 'used': 2675432}\n",
      "{'total': 8164892, 'free': 5489460, 'used': 2675432}\n",
      "{'total': 8164892, 'free': 5489460, 'used': 2675432}\n",
      "{'total': 8164892, 'free': 5489460, 'used': 2675432}\n",
      "{'total': 8164892, 'free': 5489460, 'used': 2675432}\n",
      "{'total': 8164892, 'free': 5489460, 'used': 2675432}\n",
      "{'total': 8164892, 'free': 5489460, 'used': 2675432}\n",
      "{'total': 8164892, 'free': 5489460, 'used': 2675432}\n",
      "{'total': 8164892, 'free': 5489460, 'used': 2675432}\n",
      "{'total': 8164892, 'free': 5489412, 'used': 2675480}\n",
      "{'total': 8164892, 'free': 5489412, 'used': 2675480}\n",
      "{'total': 8164892, 'free': 5489412, 'used': 2675480}\n",
      "{'total': 8164892, 'free': 5489412, 'used': 2675480}\n",
      "{'total': 8164892, 'free': 5489412, 'used': 2675480}\n",
      "{'total': 8164892, 'free': 5489412, 'used': 2675480}\n",
      "{'total': 8164892, 'free': 5489412, 'used': 2675480}\n",
      "{'total': 8164892, 'free': 5489412, 'used': 2675480}\n",
      "{'total': 8164892, 'free': 5489412, 'used': 2675480}\n",
      "{'total': 8164892, 'free': 5489412, 'used': 2675480}\n",
      "{'total': 8164892, 'free': 5489412, 'used': 2675480}\n",
      "{'total': 8164892, 'free': 5489412, 'used': 2675480}\n",
      "{'total': 8164892, 'free': 5489412, 'used': 2675480}\n",
      "{'total': 8164892, 'free': 5489412, 'used': 2675480}\n",
      "{'total': 8164892, 'free': 5489412, 'used': 2675480}\n",
      "{'total': 8164892, 'free': 5489412, 'used': 2675480}\n",
      "{'total': 8164892, 'free': 5489412, 'used': 2675480}\n",
      "{'total': 8164892, 'free': 5489412, 'used': 2675480}\n",
      "{'total': 8164892, 'free': 5489412, 'used': 2675480}\n",
      "{'total': 8164892, 'free': 5489412, 'used': 2675480}\n"
     ]
    }
   ],
   "source": [
    "test_y = []\n",
    "i = 0\n",
    "for i, dd in enumerate(test_docs):\n",
    "    if i % 1000 == 0:\n",
    "        print(memory())\n",
    "    if not i == 0 and i % 29999 == 0:\n",
    "        with open('../../data/nsmc/test_y_' + str(i) + '.bin', 'wb') as fp:\n",
    "            pickle.dump(test_y, fp)\n",
    "            test_y.clear()\n",
    "    if not i == 0 and i % 49996 == 0:\n",
    "        with open('../../data/nsmc/test_y_' + str(i) + '.bin', 'wb') as fp:\n",
    "            pickle.dump(test_y, fp)\n",
    "            test_y.clear()\n",
    "    test_y.append(dd[1])"
   ]
  },
  {
   "cell_type": "markdown",
   "metadata": {},
   "source": [
    "# start"
   ]
  },
  {
   "cell_type": "code",
   "execution_count": 1,
   "metadata": {},
   "outputs": [],
   "source": [
    "def memory():\n",
    "    \"\"\"\n",
    "    Get node total memory and memory usage\n",
    "    \"\"\"\n",
    "    with open('/proc/meminfo', 'r') as mem:\n",
    "        ret = {}\n",
    "        tmp = 0\n",
    "        for i in mem:\n",
    "            sline = i.split()\n",
    "            if str(sline[0]) == 'MemTotal:':\n",
    "                ret['total'] = int(sline[1])\n",
    "            elif str(sline[0]) in ('MemFree:', 'Buffers:', 'Cached:'):\n",
    "                tmp += int(sline[1])\n",
    "        ret['free'] = tmp\n",
    "        ret['used'] = int(ret['total']) - int(ret['free'])\n",
    "    return ret\n"
   ]
  },
  {
   "cell_type": "code",
   "execution_count": 2,
   "metadata": {},
   "outputs": [],
   "source": [
    "import pickle"
   ]
  },
  {
   "cell_type": "code",
   "execution_count": 3,
   "metadata": {},
   "outputs": [],
   "source": [
    "import nltk"
   ]
  },
  {
   "cell_type": "code",
   "execution_count": 4,
   "metadata": {},
   "outputs": [
    {
     "data": {
      "text/plain": [
       "28"
      ]
     },
     "execution_count": 4,
     "metadata": {},
     "output_type": "execute_result"
    }
   ],
   "source": [
    "import sys\n",
    "sys.getsizeof(2)"
   ]
  },
  {
   "cell_type": "code",
   "execution_count": 5,
   "metadata": {},
   "outputs": [
    {
     "data": {
      "text/plain": [
       "{'free': 7851184, 'total': 8164892, 'used': 313708}"
      ]
     },
     "execution_count": 5,
     "metadata": {},
     "output_type": "execute_result"
    }
   ],
   "source": [
    "memory()"
   ]
  },
  {
   "cell_type": "code",
   "execution_count": 6,
   "metadata": {},
   "outputs": [
    {
     "name": "stdout",
     "output_type": "stream",
     "text": [
      "{'total': 8164892, 'free': 5379400, 'used': 2785492}\n"
     ]
    }
   ],
   "source": [
    "with open('../../data/nsmc/train_x_0.bin', 'rb') as fp:\n",
    "    train_x = pickle.load(fp)\n",
    "with open('../../data/nsmc/train_y_0.bin', 'rb') as fp:\n",
    "    train_y = pickle.load(fp)\n",
    "print(memory())"
   ]
  },
  {
   "cell_type": "code",
   "execution_count": null,
   "metadata": {},
   "outputs": [],
   "source": [
    "with open('../../data/nsmc/test_x_0.bin', 'rb') as fp:\n",
    "    test_x = pickle.load(fp)\n",
    "with open('../../data/nsmc/test_y_0.bin', 'rb') as fp:\n",
    "    test_y = pickle.load(fp)\n",
    "print(memory())"
   ]
  },
  {
   "cell_type": "code",
   "execution_count": 7,
   "metadata": {},
   "outputs": [
    {
     "name": "stdout",
     "output_type": "stream",
     "text": [
      "{'total': 8164892, 'free': 3030440, 'used': 5134452}\n"
     ]
    }
   ],
   "source": [
    "import numpy as np\n",
    "\n",
    "x_train = np.asarray(train_x).astype('int64')\n",
    "y_train = np.asarray(train_y).astype('int64')\n",
    "print(memory())"
   ]
  },
  {
   "cell_type": "code",
   "execution_count": 8,
   "metadata": {},
   "outputs": [
    {
     "name": "stdout",
     "output_type": "stream",
     "text": [
      "{'total': 8164892, 'free': 3032060, 'used': 5132832}\n"
     ]
    }
   ],
   "source": [
    "del train_x\n",
    "del train_y\n",
    "print(memory())"
   ]
  },
  {
   "cell_type": "code",
   "execution_count": null,
   "metadata": {},
   "outputs": [],
   "source": [
    "x_test = np.asarray(test_x).astype('int64')\n",
    "y_test = np.asarray(test_y).astype('int64')"
   ]
  },
  {
   "cell_type": "code",
   "execution_count": 10,
   "metadata": {},
   "outputs": [],
   "source": [
    "from tensorflow.keras import models\n",
    "from tensorflow.keras import layers\n",
    "from tensorflow.keras import optimizers\n",
    "from tensorflow.keras import losses\n",
    "from tensorflow.keras import metrics"
   ]
  },
  {
   "cell_type": "code",
   "execution_count": 11,
   "metadata": {
    "scrolled": true
   },
   "outputs": [
    {
     "name": "stdout",
     "output_type": "stream",
     "text": [
      "WARNING:tensorflow:From /opt/conda/lib/python3.7/site-packages/tensorflow/python/ops/resource_variable_ops.py:435: colocate_with (from tensorflow.python.framework.ops) is deprecated and will be removed in a future version.\n",
      "Instructions for updating:\n",
      "Colocations handled automatically by placer.\n"
     ]
    }
   ],
   "source": [
    "model = models.Sequential()\n",
    "model.add(layers.Dense(64, activation='relu', input_shape=(10000,)))\n",
    "model.add(layers.Dense(64, activation='relu'))\n",
    "model.add(layers.Dense(1, activation='sigmoid'))"
   ]
  },
  {
   "cell_type": "code",
   "execution_count": 12,
   "metadata": {},
   "outputs": [],
   "source": [
    "model.compile(optimizer=optimizers.RMSprop(lr=0.001),\n",
    "             loss=losses.binary_crossentropy,\n",
    "             metrics=[metrics.binary_accuracy])"
   ]
  },
  {
   "cell_type": "code",
   "execution_count": 13,
   "metadata": {},
   "outputs": [
    {
     "name": "stdout",
     "output_type": "stream",
     "text": [
      "WARNING:tensorflow:From /opt/conda/lib/python3.7/site-packages/tensorflow/python/ops/math_ops.py:3066: to_int32 (from tensorflow.python.ops.math_ops) is deprecated and will be removed in a future version.\n",
      "Instructions for updating:\n",
      "Use tf.cast instead.\n",
      "Epoch 1/10\n",
      "29999/29999 [==============================] - 2s 60us/sample - loss: 0.5968 - binary_accuracy: 0.6935\n",
      "Epoch 2/10\n",
      "29999/29999 [==============================] - 2s 56us/sample - loss: 0.4407 - binary_accuracy: 0.7783\n",
      "Epoch 3/10\n",
      "29999/29999 [==============================] - 2s 56us/sample - loss: 0.3836 - binary_accuracy: 0.8045\n",
      "Epoch 4/10\n",
      "29999/29999 [==============================] - 2s 54us/sample - loss: 0.3516 - binary_accuracy: 0.8192\n",
      "Epoch 5/10\n",
      "29999/29999 [==============================] - 2s 55us/sample - loss: 0.3275 - binary_accuracy: 0.8291\n",
      "Epoch 6/10\n",
      "29999/29999 [==============================] - 2s 55us/sample - loss: 0.3084 - binary_accuracy: 0.8380\n",
      "Epoch 7/10\n",
      "29999/29999 [==============================] - 2s 55us/sample - loss: 0.2915 - binary_accuracy: 0.8452\n",
      "Epoch 8/10\n",
      "29999/29999 [==============================] - 2s 54us/sample - loss: 0.2759 - binary_accuracy: 0.8531\n",
      "Epoch 9/10\n",
      "29999/29999 [==============================] - 2s 55us/sample - loss: 0.2615 - binary_accuracy: 0.8578\n",
      "Epoch 10/10\n",
      "29999/29999 [==============================] - 2s 55us/sample - loss: 0.2491 - binary_accuracy: 0.8635\n"
     ]
    },
    {
     "data": {
      "text/plain": [
       "<tensorflow.python.keras.callbacks.History at 0x7fe4181a3be0>"
      ]
     },
     "execution_count": 13,
     "metadata": {},
     "output_type": "execute_result"
    }
   ],
   "source": [
    "model.fit(x_train, y_train, epochs=10, batch_size=512)"
   ]
  },
  {
   "cell_type": "code",
   "execution_count": null,
   "metadata": {},
   "outputs": [],
   "source": []
  }
 ],
 "metadata": {
  "kernelspec": {
   "display_name": "Python 3",
   "language": "python",
   "name": "python3"
  },
  "language_info": {
   "codemirror_mode": {
    "name": "ipython",
    "version": 3
   },
   "file_extension": ".py",
   "mimetype": "text/x-python",
   "name": "python",
   "nbconvert_exporter": "python",
   "pygments_lexer": "ipython3",
   "version": "3.7.1"
  }
 },
 "nbformat": 4,
 "nbformat_minor": 2
}
